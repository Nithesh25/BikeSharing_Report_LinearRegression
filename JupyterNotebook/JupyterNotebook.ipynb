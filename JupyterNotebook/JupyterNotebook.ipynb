{
 "cells": [
  {
   "cell_type": "code",
   "execution_count": 2,
   "id": "8926715d",
   "metadata": {},
   "outputs": [],
   "source": [
    "# Import libraties\n",
    "import pandas as pd\n",
    "import numpy as np\n",
    "import matplotlib.pyplot as plt\n",
    "import seaborn as sns\n",
    "\n",
    "import pickle"
   ]
  },
  {
   "cell_type": "code",
   "execution_count": 3,
   "id": "0ee7b1ad",
   "metadata": {},
   "outputs": [],
   "source": [
    "import os"
   ]
  },
  {
   "cell_type": "code",
   "execution_count": 165,
   "id": "c6b09eca",
   "metadata": {},
   "outputs": [
    {
     "data": {
      "text/plain": [
       "['.ipynb_checkpoints', 'data', 'images', 'JupyterNotebook.ipynb']"
      ]
     },
     "execution_count": 165,
     "metadata": {},
     "output_type": "execute_result"
    }
   ],
   "source": [
    "os.listdir()"
   ]
  },
  {
   "cell_type": "code",
   "execution_count": 153,
   "id": "d4432036",
   "metadata": {},
   "outputs": [],
   "source": [
    "data_df = pd.read_csv('data/day.csv')"
   ]
  },
  {
   "cell_type": "code",
   "execution_count": 154,
   "id": "7456ef28",
   "metadata": {},
   "outputs": [
    {
     "data": {
      "text/html": [
       "<div>\n",
       "<style scoped>\n",
       "    .dataframe tbody tr th:only-of-type {\n",
       "        vertical-align: middle;\n",
       "    }\n",
       "\n",
       "    .dataframe tbody tr th {\n",
       "        vertical-align: top;\n",
       "    }\n",
       "\n",
       "    .dataframe thead th {\n",
       "        text-align: right;\n",
       "    }\n",
       "</style>\n",
       "<table border=\"1\" class=\"dataframe\">\n",
       "  <thead>\n",
       "    <tr style=\"text-align: right;\">\n",
       "      <th></th>\n",
       "      <th>instant</th>\n",
       "      <th>dteday</th>\n",
       "      <th>season</th>\n",
       "      <th>yr</th>\n",
       "      <th>mnth</th>\n",
       "      <th>holiday</th>\n",
       "      <th>weekday</th>\n",
       "      <th>workingday</th>\n",
       "      <th>weathersit</th>\n",
       "      <th>temp</th>\n",
       "      <th>atemp</th>\n",
       "      <th>hum</th>\n",
       "      <th>windspeed</th>\n",
       "      <th>casual</th>\n",
       "      <th>registered</th>\n",
       "      <th>cnt</th>\n",
       "    </tr>\n",
       "  </thead>\n",
       "  <tbody>\n",
       "    <tr>\n",
       "      <th>0</th>\n",
       "      <td>1</td>\n",
       "      <td>01-01-2018</td>\n",
       "      <td>1</td>\n",
       "      <td>0</td>\n",
       "      <td>1</td>\n",
       "      <td>0</td>\n",
       "      <td>6</td>\n",
       "      <td>0</td>\n",
       "      <td>2</td>\n",
       "      <td>14.110847</td>\n",
       "      <td>18.18125</td>\n",
       "      <td>80.5833</td>\n",
       "      <td>10.749882</td>\n",
       "      <td>331</td>\n",
       "      <td>654</td>\n",
       "      <td>985</td>\n",
       "    </tr>\n",
       "    <tr>\n",
       "      <th>1</th>\n",
       "      <td>2</td>\n",
       "      <td>02-01-2018</td>\n",
       "      <td>1</td>\n",
       "      <td>0</td>\n",
       "      <td>1</td>\n",
       "      <td>0</td>\n",
       "      <td>0</td>\n",
       "      <td>0</td>\n",
       "      <td>2</td>\n",
       "      <td>14.902598</td>\n",
       "      <td>17.68695</td>\n",
       "      <td>69.6087</td>\n",
       "      <td>16.652113</td>\n",
       "      <td>131</td>\n",
       "      <td>670</td>\n",
       "      <td>801</td>\n",
       "    </tr>\n",
       "    <tr>\n",
       "      <th>2</th>\n",
       "      <td>3</td>\n",
       "      <td>03-01-2018</td>\n",
       "      <td>1</td>\n",
       "      <td>0</td>\n",
       "      <td>1</td>\n",
       "      <td>0</td>\n",
       "      <td>1</td>\n",
       "      <td>1</td>\n",
       "      <td>1</td>\n",
       "      <td>8.050924</td>\n",
       "      <td>9.47025</td>\n",
       "      <td>43.7273</td>\n",
       "      <td>16.636703</td>\n",
       "      <td>120</td>\n",
       "      <td>1229</td>\n",
       "      <td>1349</td>\n",
       "    </tr>\n",
       "    <tr>\n",
       "      <th>3</th>\n",
       "      <td>4</td>\n",
       "      <td>04-01-2018</td>\n",
       "      <td>1</td>\n",
       "      <td>0</td>\n",
       "      <td>1</td>\n",
       "      <td>0</td>\n",
       "      <td>2</td>\n",
       "      <td>1</td>\n",
       "      <td>1</td>\n",
       "      <td>8.200000</td>\n",
       "      <td>10.60610</td>\n",
       "      <td>59.0435</td>\n",
       "      <td>10.739832</td>\n",
       "      <td>108</td>\n",
       "      <td>1454</td>\n",
       "      <td>1562</td>\n",
       "    </tr>\n",
       "    <tr>\n",
       "      <th>4</th>\n",
       "      <td>5</td>\n",
       "      <td>05-01-2018</td>\n",
       "      <td>1</td>\n",
       "      <td>0</td>\n",
       "      <td>1</td>\n",
       "      <td>0</td>\n",
       "      <td>3</td>\n",
       "      <td>1</td>\n",
       "      <td>1</td>\n",
       "      <td>9.305237</td>\n",
       "      <td>11.46350</td>\n",
       "      <td>43.6957</td>\n",
       "      <td>12.522300</td>\n",
       "      <td>82</td>\n",
       "      <td>1518</td>\n",
       "      <td>1600</td>\n",
       "    </tr>\n",
       "  </tbody>\n",
       "</table>\n",
       "</div>"
      ],
      "text/plain": [
       "   instant      dteday  season  yr  mnth  holiday  weekday  workingday  \\\n",
       "0        1  01-01-2018       1   0     1        0        6           0   \n",
       "1        2  02-01-2018       1   0     1        0        0           0   \n",
       "2        3  03-01-2018       1   0     1        0        1           1   \n",
       "3        4  04-01-2018       1   0     1        0        2           1   \n",
       "4        5  05-01-2018       1   0     1        0        3           1   \n",
       "\n",
       "   weathersit       temp     atemp      hum  windspeed  casual  registered  \\\n",
       "0           2  14.110847  18.18125  80.5833  10.749882     331         654   \n",
       "1           2  14.902598  17.68695  69.6087  16.652113     131         670   \n",
       "2           1   8.050924   9.47025  43.7273  16.636703     120        1229   \n",
       "3           1   8.200000  10.60610  59.0435  10.739832     108        1454   \n",
       "4           1   9.305237  11.46350  43.6957  12.522300      82        1518   \n",
       "\n",
       "    cnt  \n",
       "0   985  \n",
       "1   801  \n",
       "2  1349  \n",
       "3  1562  \n",
       "4  1600  "
      ]
     },
     "execution_count": 154,
     "metadata": {},
     "output_type": "execute_result"
    }
   ],
   "source": [
    "data_df.head()"
   ]
  },
  {
   "cell_type": "code",
   "execution_count": 155,
   "id": "2aba7680",
   "metadata": {},
   "outputs": [
    {
     "data": {
      "text/plain": [
       "Index(['instant', 'dteday', 'season', 'yr', 'mnth', 'holiday', 'weekday',\n",
       "       'workingday', 'weathersit', 'temp', 'atemp', 'hum', 'windspeed',\n",
       "       'casual', 'registered', 'cnt'],\n",
       "      dtype='object')"
      ]
     },
     "execution_count": 155,
     "metadata": {},
     "output_type": "execute_result"
    }
   ],
   "source": [
    "data_df.columns"
   ]
  },
  {
   "cell_type": "code",
   "execution_count": 72,
   "id": "53b960fd",
   "metadata": {},
   "outputs": [
    {
     "name": "stdout",
     "output_type": "stream",
     "text": [
      "<class 'pandas.core.frame.DataFrame'>\n",
      "RangeIndex: 730 entries, 0 to 729\n",
      "Data columns (total 16 columns):\n",
      " #   Column      Non-Null Count  Dtype  \n",
      "---  ------      --------------  -----  \n",
      " 0   instant     730 non-null    int64  \n",
      " 1   dteday      730 non-null    object \n",
      " 2   season      730 non-null    int64  \n",
      " 3   yr          730 non-null    int64  \n",
      " 4   mnth        730 non-null    int64  \n",
      " 5   holiday     730 non-null    int64  \n",
      " 6   weekday     730 non-null    int64  \n",
      " 7   workingday  730 non-null    int64  \n",
      " 8   weathersit  730 non-null    int64  \n",
      " 9   temp        730 non-null    float64\n",
      " 10  atemp       730 non-null    float64\n",
      " 11  hum         730 non-null    float64\n",
      " 12  windspeed   730 non-null    float64\n",
      " 13  casual      730 non-null    int64  \n",
      " 14  registered  730 non-null    int64  \n",
      " 15  cnt         730 non-null    int64  \n",
      "dtypes: float64(4), int64(11), object(1)\n",
      "memory usage: 91.4+ KB\n"
     ]
    }
   ],
   "source": [
    "data_df.info()"
   ]
  },
  {
   "cell_type": "code",
   "execution_count": null,
   "id": "00fa531a",
   "metadata": {},
   "outputs": [],
   "source": []
  },
  {
   "cell_type": "markdown",
   "id": "6e8d3662",
   "metadata": {},
   "source": [
    "## EXPLORATORY ANALYSIS OF DATA"
   ]
  },
  {
   "cell_type": "markdown",
   "id": "6107d724",
   "metadata": {},
   "source": [
    "## Question\n",
    "What is season at which the bike shared is high?"
   ]
  },
  {
   "cell_type": "code",
   "execution_count": 172,
   "id": "8263b451",
   "metadata": {},
   "outputs": [
    {
     "name": "stderr",
     "output_type": "stream",
     "text": [
      "C:\\Users\\PC125\\anaconda3\\lib\\site-packages\\seaborn\\_decorators.py:36: FutureWarning: Pass the following variables as keyword args: x, y. From version 0.12, the only valid positional argument will be `data`, and passing other arguments without an explicit keyword will result in an error or misinterpretation.\n",
      "  warnings.warn(\n"
     ]
    },
    {
     "data": {
      "image/png": "[encoded data removed]",
      "text/plain": [
       "<Figure size 864x360 with 1 Axes>"
      ]
     },
     "metadata": {
      "needs_background": "light"
     },
     "output_type": "display_data"
    }
   ],
   "source": [
    "# plotting bar-chart\n",
    "\n",
    "plt.figure(figsize=(12,5))\n",
    "sns.barplot('season','cnt',data=data_df,hue=\"yr\")\n",
    "\n",
    "plt.ylabel(\"Count of bikeshare\")\n",
    "plt.title(\"No.Of bike share occured on each season\")\n",
    "plt.legend()\n",
    "plt.savefig('images/image.jpg', bbox_inches='tight', pad_inches=0)\n",
    "plt.show()"
   ]
  },
  {
   "cell_type": "code",
   "execution_count": 145,
   "id": "dd1d6f54",
   "metadata": {},
   "outputs": [
    {
     "data": {
      "text/plain": [
       "season\n",
       "1    2608.411111\n",
       "2    4992.331522\n",
       "3    5644.303191\n",
       "4    4728.162921\n",
       "Name: cnt, dtype: float64"
      ]
     },
     "execution_count": 145,
     "metadata": {},
     "output_type": "execute_result"
    }
   ],
   "source": [
    "grouped = data_df.groupby(['season'])['cnt'].mean()\n",
    "grouped"
   ]
  },
  {
   "cell_type": "markdown",
   "id": "7e6eec17",
   "metadata": {},
   "source": [
    "## Result\n",
    "From the Data Dictionary we can know that season mentioned in the data is 1:spring, 2:summer, 3:fall, 4:winter.\n",
    "\n",
    "From the above graph and the grouped variables we can understand that the season 3 which is the fall season, has the hight number of bike share occured in both the year 2018 and 2019 "
   ]
  },
  {
   "cell_type": "markdown",
   "id": "e2a115a6",
   "metadata": {},
   "source": [
    "# Question\n",
    "What is the influence does weekday have on the count of bikeshare?"
   ]
  },
  {
   "cell_type": "code",
   "execution_count": 173,
   "id": "ea78d7cb",
   "metadata": {},
   "outputs": [
    {
     "name": "stderr",
     "output_type": "stream",
     "text": [
      "C:\\Users\\PC125\\anaconda3\\lib\\site-packages\\seaborn\\_decorators.py:36: FutureWarning: Pass the following variables as keyword args: x, y. From version 0.12, the only valid positional argument will be `data`, and passing other arguments without an explicit keyword will result in an error or misinterpretation.\n",
      "  warnings.warn(\n",
      "No handles with labels found to put in legend.\n"
     ]
    },
    {
     "data": {
      "image/png": "[encoded data removed]",
      "text/plain": [
       "<Figure size 864x360 with 1 Axes>"
      ]
     },
     "metadata": {
      "needs_background": "light"
     },
     "output_type": "display_data"
    }
   ],
   "source": [
    "plt.figure(figsize=(12,5))\n",
    "sns.barplot('weekday','cnt',data=data_df)\n",
    "\n",
    "plt.ylabel(\"Count of bikeshare\")\n",
    "plt.title(\"No.Of bike share occured based on weekday\")\n",
    "plt.legend()\n",
    "plt.savefig('images/graph.jpg', bbox_inches='tight', pad_inches=0)\n",
    "plt.show()"
   ]
  },
  {
   "cell_type": "code",
   "execution_count": 156,
   "id": "94eeec10",
   "metadata": {},
   "outputs": [
    {
     "data": {
      "text/plain": [
       "weekday\n",
       "0    4228.828571\n",
       "1    4338.123810\n",
       "2    4510.663462\n",
       "3    4574.893204\n",
       "4    4667.259615\n",
       "5    4690.288462\n",
       "6    4550.542857\n",
       "Name: cnt, dtype: float64"
      ]
     },
     "execution_count": 156,
     "metadata": {},
     "output_type": "execute_result"
    }
   ],
   "source": [
    "grouped = data_df.groupby(['weekday'])['cnt'].mean()\n",
    "grouped"
   ]
  },
  {
   "cell_type": "markdown",
   "id": "17671db7",
   "metadata": {},
   "source": [
    "## Result\n",
    "We can assume that the column weekday is represented as 0:Sunday, 1:Monday, 2:Tuesday, 3:Wednesday, 4:Thursday, 5:Friday, 6:Saturday. \n",
    "\n",
    "From the above graph and grouped variables we can understand that the Thursdays and Fridays are having the hight number of bike share occured. "
   ]
  },
  {
   "cell_type": "markdown",
   "id": "63c2d402",
   "metadata": {},
   "source": [
    "# Question \n",
    "Which month has the highest bike share occured?"
   ]
  },
  {
   "cell_type": "code",
   "execution_count": 174,
   "id": "c738d84b",
   "metadata": {},
   "outputs": [
    {
     "name": "stderr",
     "output_type": "stream",
     "text": [
      "C:\\Users\\PC125\\anaconda3\\lib\\site-packages\\seaborn\\_decorators.py:36: FutureWarning: Pass the following variables as keyword args: x, y. From version 0.12, the only valid positional argument will be `data`, and passing other arguments without an explicit keyword will result in an error or misinterpretation.\n",
      "  warnings.warn(\n"
     ]
    },
    {
     "data": {
      "image/png": "[encoded data removed]",
      "text/plain": [
       "<Figure size 864x360 with 1 Axes>"
      ]
     },
     "metadata": {
      "needs_background": "light"
     },
     "output_type": "display_data"
    }
   ],
   "source": [
    "plt.figure(figsize=(12,5))\n",
    "sns.barplot('mnth','cnt',data=data_df,hue='season')\n",
    "\n",
    "plt.ylabel(\"Count of bikeshare\")\n",
    "plt.title(\"No.Of bike share occured based on each month\")\n",
    "plt.legend()\n",
    "plt.savefig('images/graph1.jpg', bbox_inches='tight', pad_inches=0)\n",
    "plt.show()"
   ]
  },
  {
   "cell_type": "code",
   "execution_count": 158,
   "id": "18c4a50c",
   "metadata": {},
   "outputs": [
    {
     "data": {
      "text/plain": [
       "season  mnth\n",
       "1       1       2176.338710\n",
       "        2       2669.964286\n",
       "        3       3551.625000\n",
       "        12      1954.454545\n",
       "2       3       3947.954545\n",
       "        4       4484.900000\n",
       "        5       5349.774194\n",
       "        6       5773.850000\n",
       "3       6       5769.400000\n",
       "        7       5563.677419\n",
       "        8       5664.419355\n",
       "        9       5672.704545\n",
       "4       9       6024.500000\n",
       "        10      5199.225806\n",
       "        11      4247.183333\n",
       "        12      4200.950000\n",
       "Name: cnt, dtype: float64"
      ]
     },
     "execution_count": 158,
     "metadata": {},
     "output_type": "execute_result"
    }
   ],
   "source": [
    "grouped = data_df.groupby(['season','mnth'])['cnt'].mean()\n",
    "grouped"
   ]
  },
  {
   "cell_type": "markdown",
   "id": "4687afc8",
   "metadata": {},
   "source": [
    "# Result\n",
    "From the Data Dictionary we can understand that the mnth column is 1-12 months.\n",
    "\n",
    "From the above graph and grouped values based on season with month we can understand that the months with fall season has the highest number of bike share occured out of all seasons of a month.\n"
   ]
  },
  {
   "cell_type": "markdown",
   "id": "33445f85",
   "metadata": {},
   "source": [
    "# Question\n",
    "What day does the bike share occured most with respect to workingday columnin for each season?"
   ]
  },
  {
   "cell_type": "code",
   "execution_count": 175,
   "id": "36b441a0",
   "metadata": {},
   "outputs": [
    {
     "name": "stderr",
     "output_type": "stream",
     "text": [
      "C:\\Users\\PC125\\anaconda3\\lib\\site-packages\\seaborn\\_decorators.py:36: FutureWarning: Pass the following variables as keyword args: x, y. From version 0.12, the only valid positional argument will be `data`, and passing other arguments without an explicit keyword will result in an error or misinterpretation.\n",
      "  warnings.warn(\n"
     ]
    },
    {
     "data": {
      "image/png": "[encoded data removed]",
      "text/plain": [
       "<Figure size 864x360 with 1 Axes>"
      ]
     },
     "metadata": {
      "needs_background": "light"
     },
     "output_type": "display_data"
    }
   ],
   "source": [
    "plt.figure(figsize=(12,5))\n",
    "sns.barplot('workingday','cnt',data=data_df,hue='season')\n",
    "\n",
    "plt.ylabel(\"Count of bikeshare\")\n",
    "plt.title(\"No.Of bike share occured based on each month\")\n",
    "plt.legend()\n",
    "plt.savefig('images/graph2.jpg', bbox_inches='tight', pad_inches=0)\n",
    "plt.show()"
   ]
  },
  {
   "cell_type": "code",
   "execution_count": 159,
   "id": "1629ee6f",
   "metadata": {},
   "outputs": [
    {
     "data": {
      "text/plain": [
       "season  workingday\n",
       "1       0             2257.098361\n",
       "        1             2788.495798\n",
       "2       0             5142.428571\n",
       "        1             4926.664062\n",
       "3       0             5474.666667\n",
       "        1             5718.114504\n",
       "4       0             4606.210526\n",
       "        1             4785.611570\n",
       "Name: cnt, dtype: float64"
      ]
     },
     "execution_count": 159,
     "metadata": {},
     "output_type": "execute_result"
    }
   ],
   "source": [
    "grouped = data_df.groupby(['season','workingday'])['cnt'].mean()\n",
    "grouped"
   ]
  },
  {
   "cell_type": "markdown",
   "id": "ce5416be",
   "metadata": {},
   "source": [
    "# Result\n",
    "From the above graph and grouped values we can understand that in all seasons the bikes shared is high at the working day not on a holiday especially at the fall season.\n"
   ]
  },
  {
   "cell_type": "markdown",
   "id": "0baf34e5",
   "metadata": {},
   "source": [
    "# Question\n",
    "What is count of bike at each year with respect to the weather?"
   ]
  },
  {
   "cell_type": "code",
   "execution_count": 176,
   "id": "5a8be2ed",
   "metadata": {},
   "outputs": [
    {
     "name": "stderr",
     "output_type": "stream",
     "text": [
      "C:\\Users\\PC125\\anaconda3\\lib\\site-packages\\seaborn\\_decorators.py:36: FutureWarning: Pass the following variables as keyword args: x, y. From version 0.12, the only valid positional argument will be `data`, and passing other arguments without an explicit keyword will result in an error or misinterpretation.\n",
      "  warnings.warn(\n"
     ]
    },
    {
     "data": {
      "image/png": "[encoded data removed]",
      "text/plain": [
       "<Figure size 864x360 with 1 Axes>"
      ]
     },
     "metadata": {
      "needs_background": "light"
     },
     "output_type": "display_data"
    }
   ],
   "source": [
    "plt.figure(figsize=(12,5))\n",
    "sns.barplot('yr','cnt',data=data_df,hue='weathersit')\n",
    "\n",
    "plt.ylabel(\"Count of bikeshare\")\n",
    "plt.xlabel(\"Year\")\n",
    "plt.title(\"No.Of bike share occured based on each month\")\n",
    "plt.legend()\n",
    "plt.savefig('images/graph3.jpg', bbox_inches='tight', pad_inches=0)\n",
    "plt.show()"
   ]
  },
  {
   "cell_type": "code",
   "execution_count": 160,
   "id": "3d600101",
   "metadata": {},
   "outputs": [
    {
     "data": {
      "text/plain": [
       "yr  weathersit\n",
       "0   1             3694.986726\n",
       "    2             3088.096774\n",
       "    3             1674.133333\n",
       "1   1             6003.734177\n",
       "    2             5017.213115\n",
       "    3             2126.166667\n",
       "Name: cnt, dtype: float64"
      ]
     },
     "execution_count": 160,
     "metadata": {},
     "output_type": "execute_result"
    }
   ],
   "source": [
    "grouped = data_df.groupby(['yr','weathersit'])['cnt'].mean()\n",
    "grouped"
   ]
  },
  {
   "cell_type": "markdown",
   "id": "68ab22f6",
   "metadata": {},
   "source": [
    "# Result\n",
    "From the Data Dictionary we can know that weathersit mentioned in the data is the representation of the weather, they are 1:Clear, Few clouds, Partly cloudy, Partly cloudy, 2:Mist + Cloudy, Mist + Broken clouds, Mist + Few clouds, Mist, 3:Light Snow, Light Rain + Thunderstorm + Scattered clouds, Light Rain + Scattered clouds.\n",
    "\n",
    "From the above graph and grouped values we can understand that weathersit 1 has the hight number of bike share occured in both the year 2018 and 2019, that is a good weather which makes the demand for bike share to rise.\n"
   ]
  },
  {
   "cell_type": "markdown",
   "id": "dc954c94",
   "metadata": {},
   "source": [
    "# Question\n",
    "How does Temp, humid, and wind speed influences the count of bike share?"
   ]
  },
  {
   "cell_type": "code",
   "execution_count": 178,
   "id": "15521744",
   "metadata": {},
   "outputs": [
    {
     "name": "stderr",
     "output_type": "stream",
     "text": [
      "C:\\Users\\PC125\\anaconda3\\lib\\site-packages\\seaborn\\_decorators.py:36: FutureWarning: Pass the following variables as keyword args: x, y. From version 0.12, the only valid positional argument will be `data`, and passing other arguments without an explicit keyword will result in an error or misinterpretation.\n",
      "  warnings.warn(\n",
      "C:\\Users\\PC125\\anaconda3\\lib\\site-packages\\seaborn\\_decorators.py:36: FutureWarning: Pass the following variables as keyword args: x, y. From version 0.12, the only valid positional argument will be `data`, and passing other arguments without an explicit keyword will result in an error or misinterpretation.\n",
      "  warnings.warn(\n",
      "C:\\Users\\PC125\\anaconda3\\lib\\site-packages\\seaborn\\_decorators.py:36: FutureWarning: Pass the following variables as keyword args: x, y. From version 0.12, the only valid positional argument will be `data`, and passing other arguments without an explicit keyword will result in an error or misinterpretation.\n",
      "  warnings.warn(\n",
      "No handles with labels found to put in legend.\n"
     ]
    },
    {
     "data": {
      "image/png": "[encoded data removed]",
      "text/plain": [
       "<Figure size 1296x576 with 3 Axes>"
      ]
     },
     "metadata": {
      "needs_background": "light"
     },
     "output_type": "display_data"
    }
   ],
   "source": [
    "plt.figure(figsize=(18,8))\n",
    "plt.subplot(1,3,1)\n",
    "sns.regplot('temp','cnt',data=data_df)\n",
    "plt.ylabel(\"Count of bikeshare\")\n",
    "plt.title(\"No.Of bike share occured with respect to temperature\")\n",
    "\n",
    "plt.subplot(1,3,2)\n",
    "sns.regplot('hum','cnt',data=data_df)\n",
    "plt.ylabel(\"Count of bikeshare\")\n",
    "plt.title(\"No.Of bike share occured with respect to Humidity\")\n",
    "\n",
    "plt.subplot(1,3,3)\n",
    "sns.regplot('windspeed','cnt',data=data_df)\n",
    "plt.ylabel(\"Count of bikeshare\")\n",
    "plt.title(\"No.Of bike share occured with respect to windspeed\")\n",
    "plt.legend()\n",
    "plt.savefig('images/graph5.jpg', bbox_inches='tight', pad_inches=0)\n",
    "plt.show()"
   ]
  },
  {
   "cell_type": "markdown",
   "id": "c805d452",
   "metadata": {},
   "source": [
    "# Inference\n",
    "From the graph we can understand that the increase in temperature increses the demand for bike share between 20 to 30 degree.\n",
    "Where as increase in wind speed and humidity decrease the demand for bike share which is a non favaroble period."
   ]
  },
  {
   "cell_type": "markdown",
   "id": "3e936bc3",
   "metadata": {},
   "source": [
    "# Question\n",
    "What is the senario of the count for bike share, is it increasing or decreasing?"
   ]
  },
  {
   "cell_type": "code",
   "execution_count": 180,
   "id": "9a8a472c",
   "metadata": {},
   "outputs": [],
   "source": [
    "data_df['cnt'] = np.log(data_df['cnt'])"
   ]
  },
  {
   "cell_type": "code",
   "execution_count": 181,
   "id": "1e41c0fa",
   "metadata": {},
   "outputs": [
    {
     "name": "stderr",
     "output_type": "stream",
     "text": [
      "C:\\Users\\PC125\\anaconda3\\lib\\site-packages\\seaborn\\distributions.py:2557: FutureWarning: `distplot` is a deprecated function and will be removed in a future version. Please adapt your code to use either `displot` (a figure-level function with similar flexibility) or `histplot` (an axes-level function for histograms).\n",
      "  warnings.warn(msg, FutureWarning)\n",
      "No handles with labels found to put in legend.\n"
     ]
    },
    {
     "data": {
      "image/png": "[encoded data removed]",
      "text/plain": [
       "<Figure size 864x360 with 1 Axes>"
      ]
     },
     "metadata": {
      "needs_background": "light"
     },
     "output_type": "display_data"
    }
   ],
   "source": [
    "plt.figure(figsize=(12,5))\n",
    "sns.distplot(data_df['cnt'])\n",
    "\n",
    "plt.title(\"Chart to explain the senario of bike share\")\n",
    "plt.legend()\n",
    "plt.savefig('images/graph7.jpg', bbox_inches='tight', pad_inches=0)\n",
    "plt.show()"
   ]
  },
  {
   "cell_type": "markdown",
   "id": "68c3074d",
   "metadata": {},
   "source": [
    "# Result\n",
    "We can see that there is a gradual increase of demand for bike share and a sudden down fall as mentioned by business due to corona lockdown"
   ]
  },
  {
   "cell_type": "markdown",
   "id": "dab33f0a",
   "metadata": {},
   "source": [
    "# DATA CLEANING or PREPROCESING"
   ]
  },
  {
   "cell_type": "markdown",
   "id": "67ebbc68",
   "metadata": {},
   "source": [
    "**Droping columns that are not useful for analysis** "
   ]
  },
  {
   "cell_type": "markdown",
   "id": "c80c5fab",
   "metadata": {},
   "source": [
    "1. instant is just a column that mentions the number of row\n",
    "2. dteday is removed since we already have column ye and mnth to specify      the year and month we don't need date for this analysis.\n",
    "3. casual and registered are columns that specify the count of casual users and registered users, cnt is the combination for both casual and registered. So we can remove casual and registered as they can lead to data leak "
   ]
  },
  {
   "cell_type": "code",
   "execution_count": 73,
   "id": "01a1829b",
   "metadata": {},
   "outputs": [],
   "source": [
    "# droping instant column\n",
    "data_df.drop(['instant'],axis=1,inplace=True)\n",
    "\n",
    "# droping dteday column\n",
    "data_df.drop(['dteday'],axis=1,inplace=True)\n",
    "\n",
    "# droping casual, registered column\n",
    "data_df.drop(['casual', 'registered'],axis=1,inplace=True)\n"
   ]
  },
  {
   "cell_type": "code",
   "execution_count": 74,
   "id": "4783e8b6",
   "metadata": {},
   "outputs": [
    {
     "data": {
      "text/html": [
       "<div>\n",
       "<style scoped>\n",
       "    .dataframe tbody tr th:only-of-type {\n",
       "        vertical-align: middle;\n",
       "    }\n",
       "\n",
       "    .dataframe tbody tr th {\n",
       "        vertical-align: top;\n",
       "    }\n",
       "\n",
       "    .dataframe thead th {\n",
       "        text-align: right;\n",
       "    }\n",
       "</style>\n",
       "<table border=\"1\" class=\"dataframe\">\n",
       "  <thead>\n",
       "    <tr style=\"text-align: right;\">\n",
       "      <th></th>\n",
       "      <th>season</th>\n",
       "      <th>yr</th>\n",
       "      <th>mnth</th>\n",
       "      <th>holiday</th>\n",
       "      <th>weekday</th>\n",
       "      <th>workingday</th>\n",
       "      <th>weathersit</th>\n",
       "      <th>temp</th>\n",
       "      <th>atemp</th>\n",
       "      <th>hum</th>\n",
       "      <th>windspeed</th>\n",
       "      <th>cnt</th>\n",
       "    </tr>\n",
       "  </thead>\n",
       "  <tbody>\n",
       "    <tr>\n",
       "      <th>count</th>\n",
       "      <td>730.000000</td>\n",
       "      <td>730.000000</td>\n",
       "      <td>730.000000</td>\n",
       "      <td>730.000000</td>\n",
       "      <td>730.000000</td>\n",
       "      <td>730.000000</td>\n",
       "      <td>730.000000</td>\n",
       "      <td>730.000000</td>\n",
       "      <td>730.000000</td>\n",
       "      <td>730.000000</td>\n",
       "      <td>730.000000</td>\n",
       "      <td>730.000000</td>\n",
       "    </tr>\n",
       "    <tr>\n",
       "      <th>mean</th>\n",
       "      <td>2.498630</td>\n",
       "      <td>0.500000</td>\n",
       "      <td>6.526027</td>\n",
       "      <td>0.028767</td>\n",
       "      <td>2.997260</td>\n",
       "      <td>0.683562</td>\n",
       "      <td>1.394521</td>\n",
       "      <td>20.319259</td>\n",
       "      <td>23.726322</td>\n",
       "      <td>62.765175</td>\n",
       "      <td>12.763620</td>\n",
       "      <td>4508.006849</td>\n",
       "    </tr>\n",
       "    <tr>\n",
       "      <th>std</th>\n",
       "      <td>1.110184</td>\n",
       "      <td>0.500343</td>\n",
       "      <td>3.450215</td>\n",
       "      <td>0.167266</td>\n",
       "      <td>2.006161</td>\n",
       "      <td>0.465405</td>\n",
       "      <td>0.544807</td>\n",
       "      <td>7.506729</td>\n",
       "      <td>8.150308</td>\n",
       "      <td>14.237589</td>\n",
       "      <td>5.195841</td>\n",
       "      <td>1936.011647</td>\n",
       "    </tr>\n",
       "    <tr>\n",
       "      <th>min</th>\n",
       "      <td>1.000000</td>\n",
       "      <td>0.000000</td>\n",
       "      <td>1.000000</td>\n",
       "      <td>0.000000</td>\n",
       "      <td>0.000000</td>\n",
       "      <td>0.000000</td>\n",
       "      <td>1.000000</td>\n",
       "      <td>2.424346</td>\n",
       "      <td>3.953480</td>\n",
       "      <td>0.000000</td>\n",
       "      <td>1.500244</td>\n",
       "      <td>22.000000</td>\n",
       "    </tr>\n",
       "    <tr>\n",
       "      <th>25%</th>\n",
       "      <td>2.000000</td>\n",
       "      <td>0.000000</td>\n",
       "      <td>4.000000</td>\n",
       "      <td>0.000000</td>\n",
       "      <td>1.000000</td>\n",
       "      <td>0.000000</td>\n",
       "      <td>1.000000</td>\n",
       "      <td>13.811885</td>\n",
       "      <td>16.889713</td>\n",
       "      <td>52.000000</td>\n",
       "      <td>9.041650</td>\n",
       "      <td>3169.750000</td>\n",
       "    </tr>\n",
       "    <tr>\n",
       "      <th>50%</th>\n",
       "      <td>3.000000</td>\n",
       "      <td>0.500000</td>\n",
       "      <td>7.000000</td>\n",
       "      <td>0.000000</td>\n",
       "      <td>3.000000</td>\n",
       "      <td>1.000000</td>\n",
       "      <td>1.000000</td>\n",
       "      <td>20.465826</td>\n",
       "      <td>24.368225</td>\n",
       "      <td>62.625000</td>\n",
       "      <td>12.125325</td>\n",
       "      <td>4548.500000</td>\n",
       "    </tr>\n",
       "    <tr>\n",
       "      <th>75%</th>\n",
       "      <td>3.000000</td>\n",
       "      <td>1.000000</td>\n",
       "      <td>10.000000</td>\n",
       "      <td>0.000000</td>\n",
       "      <td>5.000000</td>\n",
       "      <td>1.000000</td>\n",
       "      <td>2.000000</td>\n",
       "      <td>26.880615</td>\n",
       "      <td>30.445775</td>\n",
       "      <td>72.989575</td>\n",
       "      <td>15.625589</td>\n",
       "      <td>5966.000000</td>\n",
       "    </tr>\n",
       "    <tr>\n",
       "      <th>max</th>\n",
       "      <td>4.000000</td>\n",
       "      <td>1.000000</td>\n",
       "      <td>12.000000</td>\n",
       "      <td>1.000000</td>\n",
       "      <td>6.000000</td>\n",
       "      <td>1.000000</td>\n",
       "      <td>3.000000</td>\n",
       "      <td>35.328347</td>\n",
       "      <td>42.044800</td>\n",
       "      <td>97.250000</td>\n",
       "      <td>34.000021</td>\n",
       "      <td>8714.000000</td>\n",
       "    </tr>\n",
       "  </tbody>\n",
       "</table>\n",
       "</div>"
      ],
      "text/plain": [
       "           season          yr        mnth     holiday     weekday  workingday  \\\n",
       "count  730.000000  730.000000  730.000000  730.000000  730.000000  730.000000   \n",
       "mean     2.498630    0.500000    6.526027    0.028767    2.997260    0.683562   \n",
       "std      1.110184    0.500343    3.450215    0.167266    2.006161    0.465405   \n",
       "min      1.000000    0.000000    1.000000    0.000000    0.000000    0.000000   \n",
       "25%      2.000000    0.000000    4.000000    0.000000    1.000000    0.000000   \n",
       "50%      3.000000    0.500000    7.000000    0.000000    3.000000    1.000000   \n",
       "75%      3.000000    1.000000   10.000000    0.000000    5.000000    1.000000   \n",
       "max      4.000000    1.000000   12.000000    1.000000    6.000000    1.000000   \n",
       "\n",
       "       weathersit        temp       atemp         hum   windspeed          cnt  \n",
       "count  730.000000  730.000000  730.000000  730.000000  730.000000   730.000000  \n",
       "mean     1.394521   20.319259   23.726322   62.765175   12.763620  4508.006849  \n",
       "std      0.544807    7.506729    8.150308   14.237589    5.195841  1936.011647  \n",
       "min      1.000000    2.424346    3.953480    0.000000    1.500244    22.000000  \n",
       "25%      1.000000   13.811885   16.889713   52.000000    9.041650  3169.750000  \n",
       "50%      1.000000   20.465826   24.368225   62.625000   12.125325  4548.500000  \n",
       "75%      2.000000   26.880615   30.445775   72.989575   15.625589  5966.000000  \n",
       "max      3.000000   35.328347   42.044800   97.250000   34.000021  8714.000000  "
      ]
     },
     "execution_count": 74,
     "metadata": {},
     "output_type": "execute_result"
    }
   ],
   "source": [
    "data_df.describe()"
   ]
  },
  {
   "cell_type": "code",
   "execution_count": 75,
   "id": "9cd77236",
   "metadata": {},
   "outputs": [
    {
     "data": {
      "text/plain": [
       "Index(['season', 'yr', 'mnth', 'holiday', 'weekday', 'workingday',\n",
       "       'weathersit', 'temp', 'atemp', 'hum', 'windspeed', 'cnt'],\n",
       "      dtype='object')"
      ]
     },
     "execution_count": 75,
     "metadata": {},
     "output_type": "execute_result"
    }
   ],
   "source": [
    "data_df.columns"
   ]
  },
  {
   "cell_type": "code",
   "execution_count": 76,
   "id": "68c0777c",
   "metadata": {},
   "outputs": [
    {
     "data": {
      "text/html": [
       "<div>\n",
       "<style scoped>\n",
       "    .dataframe tbody tr th:only-of-type {\n",
       "        vertical-align: middle;\n",
       "    }\n",
       "\n",
       "    .dataframe tbody tr th {\n",
       "        vertical-align: top;\n",
       "    }\n",
       "\n",
       "    .dataframe thead th {\n",
       "        text-align: right;\n",
       "    }\n",
       "</style>\n",
       "<table border=\"1\" class=\"dataframe\">\n",
       "  <thead>\n",
       "    <tr style=\"text-align: right;\">\n",
       "      <th></th>\n",
       "      <th>season</th>\n",
       "      <th>yr</th>\n",
       "      <th>mnth</th>\n",
       "      <th>holiday</th>\n",
       "      <th>weekday</th>\n",
       "      <th>workingday</th>\n",
       "      <th>weathersit</th>\n",
       "      <th>temp</th>\n",
       "      <th>atemp</th>\n",
       "      <th>hum</th>\n",
       "      <th>windspeed</th>\n",
       "      <th>cnt</th>\n",
       "    </tr>\n",
       "  </thead>\n",
       "  <tbody>\n",
       "    <tr>\n",
       "      <th>0</th>\n",
       "      <td>1</td>\n",
       "      <td>0</td>\n",
       "      <td>1</td>\n",
       "      <td>0</td>\n",
       "      <td>6</td>\n",
       "      <td>0</td>\n",
       "      <td>2</td>\n",
       "      <td>14.110847</td>\n",
       "      <td>18.18125</td>\n",
       "      <td>80.5833</td>\n",
       "      <td>10.749882</td>\n",
       "      <td>985</td>\n",
       "    </tr>\n",
       "    <tr>\n",
       "      <th>1</th>\n",
       "      <td>1</td>\n",
       "      <td>0</td>\n",
       "      <td>1</td>\n",
       "      <td>0</td>\n",
       "      <td>0</td>\n",
       "      <td>0</td>\n",
       "      <td>2</td>\n",
       "      <td>14.902598</td>\n",
       "      <td>17.68695</td>\n",
       "      <td>69.6087</td>\n",
       "      <td>16.652113</td>\n",
       "      <td>801</td>\n",
       "    </tr>\n",
       "    <tr>\n",
       "      <th>2</th>\n",
       "      <td>1</td>\n",
       "      <td>0</td>\n",
       "      <td>1</td>\n",
       "      <td>0</td>\n",
       "      <td>1</td>\n",
       "      <td>1</td>\n",
       "      <td>1</td>\n",
       "      <td>8.050924</td>\n",
       "      <td>9.47025</td>\n",
       "      <td>43.7273</td>\n",
       "      <td>16.636703</td>\n",
       "      <td>1349</td>\n",
       "    </tr>\n",
       "    <tr>\n",
       "      <th>3</th>\n",
       "      <td>1</td>\n",
       "      <td>0</td>\n",
       "      <td>1</td>\n",
       "      <td>0</td>\n",
       "      <td>2</td>\n",
       "      <td>1</td>\n",
       "      <td>1</td>\n",
       "      <td>8.200000</td>\n",
       "      <td>10.60610</td>\n",
       "      <td>59.0435</td>\n",
       "      <td>10.739832</td>\n",
       "      <td>1562</td>\n",
       "    </tr>\n",
       "    <tr>\n",
       "      <th>4</th>\n",
       "      <td>1</td>\n",
       "      <td>0</td>\n",
       "      <td>1</td>\n",
       "      <td>0</td>\n",
       "      <td>3</td>\n",
       "      <td>1</td>\n",
       "      <td>1</td>\n",
       "      <td>9.305237</td>\n",
       "      <td>11.46350</td>\n",
       "      <td>43.6957</td>\n",
       "      <td>12.522300</td>\n",
       "      <td>1600</td>\n",
       "    </tr>\n",
       "  </tbody>\n",
       "</table>\n",
       "</div>"
      ],
      "text/plain": [
       "   season  yr  mnth  holiday  weekday  workingday  weathersit       temp  \\\n",
       "0       1   0     1        0        6           0           2  14.110847   \n",
       "1       1   0     1        0        0           0           2  14.902598   \n",
       "2       1   0     1        0        1           1           1   8.050924   \n",
       "3       1   0     1        0        2           1           1   8.200000   \n",
       "4       1   0     1        0        3           1           1   9.305237   \n",
       "\n",
       "      atemp      hum  windspeed   cnt  \n",
       "0  18.18125  80.5833  10.749882   985  \n",
       "1  17.68695  69.6087  16.652113   801  \n",
       "2   9.47025  43.7273  16.636703  1349  \n",
       "3  10.60610  59.0435  10.739832  1562  \n",
       "4  11.46350  43.6957  12.522300  1600  "
      ]
     },
     "execution_count": 76,
     "metadata": {},
     "output_type": "execute_result"
    }
   ],
   "source": [
    "data_df.head()"
   ]
  },
  {
   "cell_type": "code",
   "execution_count": 77,
   "id": "782af2fc",
   "metadata": {},
   "outputs": [
    {
     "name": "stdout",
     "output_type": "stream",
     "text": [
      "<class 'pandas.core.frame.DataFrame'>\n",
      "RangeIndex: 730 entries, 0 to 729\n",
      "Data columns (total 12 columns):\n",
      " #   Column      Non-Null Count  Dtype  \n",
      "---  ------      --------------  -----  \n",
      " 0   season      730 non-null    int64  \n",
      " 1   yr          730 non-null    int64  \n",
      " 2   mnth        730 non-null    int64  \n",
      " 3   holiday     730 non-null    int64  \n",
      " 4   weekday     730 non-null    int64  \n",
      " 5   workingday  730 non-null    int64  \n",
      " 6   weathersit  730 non-null    int64  \n",
      " 7   temp        730 non-null    float64\n",
      " 8   atemp       730 non-null    float64\n",
      " 9   hum         730 non-null    float64\n",
      " 10  windspeed   730 non-null    float64\n",
      " 11  cnt         730 non-null    int64  \n",
      "dtypes: float64(4), int64(8)\n",
      "memory usage: 68.6 KB\n"
     ]
    }
   ],
   "source": [
    "data_df.info()"
   ]
  },
  {
   "cell_type": "markdown",
   "id": "1c355170",
   "metadata": {},
   "source": [
    "**Handling Missing values**"
   ]
  },
  {
   "cell_type": "code",
   "execution_count": 78,
   "id": "c799242c",
   "metadata": {},
   "outputs": [
    {
     "data": {
      "text/plain": [
       "season        0\n",
       "yr            0\n",
       "mnth          0\n",
       "holiday       0\n",
       "weekday       0\n",
       "workingday    0\n",
       "weathersit    0\n",
       "temp          0\n",
       "atemp         0\n",
       "hum           0\n",
       "windspeed     0\n",
       "cnt           0\n",
       "dtype: int64"
      ]
     },
     "execution_count": 78,
     "metadata": {},
     "output_type": "execute_result"
    }
   ],
   "source": [
    "data_df.isnull().sum()"
   ]
  },
  {
   "cell_type": "markdown",
   "id": "1cf7ed2a",
   "metadata": {},
   "source": [
    "By checkting the data for null values inside each column and tried summing them. There is no null values inside the data, We can proceed with further analysis."
   ]
  },
  {
   "cell_type": "markdown",
   "id": "fed3ba97",
   "metadata": {},
   "source": [
    "**Handling Outliers**"
   ]
  },
  {
   "cell_type": "code",
   "execution_count": 79,
   "id": "a27c6a4f",
   "metadata": {
    "scrolled": true
   },
   "outputs": [
    {
     "data": {
      "text/plain": [
       "season          4\n",
       "yr              2\n",
       "mnth           12\n",
       "holiday         2\n",
       "weekday         7\n",
       "workingday      2\n",
       "weathersit      3\n",
       "temp          498\n",
       "atemp         689\n",
       "hum           594\n",
       "windspeed     649\n",
       "cnt           695\n",
       "dtype: int64"
      ]
     },
     "execution_count": 79,
     "metadata": {},
     "output_type": "execute_result"
    }
   ],
   "source": [
    "data_df.nunique()"
   ]
  },
  {
   "cell_type": "code",
   "execution_count": 80,
   "id": "40175120",
   "metadata": {},
   "outputs": [
    {
     "data": {
      "image/png": "[encoded data removed]",
      "text/plain": [
       "<Figure size 1368x360 with 4 Axes>"
      ]
     },
     "metadata": {
      "needs_background": "light"
     },
     "output_type": "display_data"
    }
   ],
   "source": [
    "# Creating BOX plot to find the outliers\n",
    "colmn = ['temp', 'atemp', 'hum', 'windspeed']\n",
    "plt.figure(figsize=(19,5))\n",
    "\n",
    "i=1\n",
    "for cols in colmn:\n",
    "    plt.subplot(1,4,i)\n",
    "    sns.boxplot(y=cols, data=data_df)\n",
    "    i=i+1"
   ]
  },
  {
   "cell_type": "markdown",
   "id": "9de15d03",
   "metadata": {},
   "source": [
    "# Inference\n",
    "Outliers are data which is of high variances with other data present in that column, Which disturbs the accuracy of analysis and predictions. The more the outliers the more it affects the analysis.\n",
    "\n",
    "From the Box plot we could see that there are no outliers which can not affect the analysis. So we are good to proceed."
   ]
  },
  {
   "cell_type": "markdown",
   "id": "fad0673b",
   "metadata": {},
   "source": [
    "# Correlation of data"
   ]
  },
  {
   "cell_type": "code",
   "execution_count": 81,
   "id": "8e4a643b",
   "metadata": {},
   "outputs": [
    {
     "data": {
      "text/html": [
       "<div>\n",
       "<style scoped>\n",
       "    .dataframe tbody tr th:only-of-type {\n",
       "        vertical-align: middle;\n",
       "    }\n",
       "\n",
       "    .dataframe tbody tr th {\n",
       "        vertical-align: top;\n",
       "    }\n",
       "\n",
       "    .dataframe thead th {\n",
       "        text-align: right;\n",
       "    }\n",
       "</style>\n",
       "<table border=\"1\" class=\"dataframe\">\n",
       "  <thead>\n",
       "    <tr style=\"text-align: right;\">\n",
       "      <th></th>\n",
       "      <th>season</th>\n",
       "      <th>yr</th>\n",
       "      <th>mnth</th>\n",
       "      <th>holiday</th>\n",
       "      <th>weekday</th>\n",
       "      <th>workingday</th>\n",
       "      <th>weathersit</th>\n",
       "      <th>temp</th>\n",
       "      <th>atemp</th>\n",
       "      <th>hum</th>\n",
       "      <th>windspeed</th>\n",
       "      <th>cnt</th>\n",
       "    </tr>\n",
       "  </thead>\n",
       "  <tbody>\n",
       "    <tr>\n",
       "      <th>season</th>\n",
       "      <td>1.000000e+00</td>\n",
       "      <td>-3.279074e-16</td>\n",
       "      <td>8.310321e-01</td>\n",
       "      <td>-0.010868</td>\n",
       "      <td>-0.003081</td>\n",
       "      <td>0.013762</td>\n",
       "      <td>0.021306</td>\n",
       "      <td>0.333361</td>\n",
       "      <td>0.342014</td>\n",
       "      <td>0.208220</td>\n",
       "      <td>-0.229607</td>\n",
       "      <td>0.404584</td>\n",
       "    </tr>\n",
       "    <tr>\n",
       "      <th>yr</th>\n",
       "      <td>-3.279074e-16</td>\n",
       "      <td>1.000000e+00</td>\n",
       "      <td>-5.162656e-16</td>\n",
       "      <td>0.008195</td>\n",
       "      <td>-0.005466</td>\n",
       "      <td>-0.002945</td>\n",
       "      <td>-0.050322</td>\n",
       "      <td>0.048789</td>\n",
       "      <td>0.047215</td>\n",
       "      <td>-0.112547</td>\n",
       "      <td>-0.011624</td>\n",
       "      <td>0.569728</td>\n",
       "    </tr>\n",
       "    <tr>\n",
       "      <th>mnth</th>\n",
       "      <td>8.310321e-01</td>\n",
       "      <td>-5.162656e-16</td>\n",
       "      <td>1.000000e+00</td>\n",
       "      <td>0.018905</td>\n",
       "      <td>0.009523</td>\n",
       "      <td>-0.004688</td>\n",
       "      <td>0.045613</td>\n",
       "      <td>0.219083</td>\n",
       "      <td>0.226430</td>\n",
       "      <td>0.224937</td>\n",
       "      <td>-0.208013</td>\n",
       "      <td>0.278191</td>\n",
       "    </tr>\n",
       "    <tr>\n",
       "      <th>holiday</th>\n",
       "      <td>-1.086804e-02</td>\n",
       "      <td>8.195345e-03</td>\n",
       "      <td>1.890483e-02</td>\n",
       "      <td>1.000000</td>\n",
       "      <td>-0.101962</td>\n",
       "      <td>-0.252948</td>\n",
       "      <td>-0.034395</td>\n",
       "      <td>-0.028764</td>\n",
       "      <td>-0.032703</td>\n",
       "      <td>-0.015662</td>\n",
       "      <td>0.006257</td>\n",
       "      <td>-0.068764</td>\n",
       "    </tr>\n",
       "    <tr>\n",
       "      <th>weekday</th>\n",
       "      <td>-3.081198e-03</td>\n",
       "      <td>-5.466369e-03</td>\n",
       "      <td>9.522969e-03</td>\n",
       "      <td>-0.101962</td>\n",
       "      <td>1.000000</td>\n",
       "      <td>0.035800</td>\n",
       "      <td>0.031112</td>\n",
       "      <td>-0.000168</td>\n",
       "      <td>-0.007539</td>\n",
       "      <td>-0.052290</td>\n",
       "      <td>0.014283</td>\n",
       "      <td>0.067534</td>\n",
       "    </tr>\n",
       "    <tr>\n",
       "      <th>workingday</th>\n",
       "      <td>1.376178e-02</td>\n",
       "      <td>-2.945396e-03</td>\n",
       "      <td>-4.687953e-03</td>\n",
       "      <td>-0.252948</td>\n",
       "      <td>0.035800</td>\n",
       "      <td>1.000000</td>\n",
       "      <td>0.060236</td>\n",
       "      <td>0.053470</td>\n",
       "      <td>0.052940</td>\n",
       "      <td>0.023202</td>\n",
       "      <td>-0.018666</td>\n",
       "      <td>0.062542</td>\n",
       "    </tr>\n",
       "    <tr>\n",
       "      <th>weathersit</th>\n",
       "      <td>2.130636e-02</td>\n",
       "      <td>-5.032247e-02</td>\n",
       "      <td>4.561335e-02</td>\n",
       "      <td>-0.034395</td>\n",
       "      <td>0.031112</td>\n",
       "      <td>0.060236</td>\n",
       "      <td>1.000000</td>\n",
       "      <td>-0.119503</td>\n",
       "      <td>-0.120559</td>\n",
       "      <td>0.590277</td>\n",
       "      <td>0.039769</td>\n",
       "      <td>-0.295929</td>\n",
       "    </tr>\n",
       "    <tr>\n",
       "      <th>temp</th>\n",
       "      <td>3.333607e-01</td>\n",
       "      <td>4.878919e-02</td>\n",
       "      <td>2.190833e-01</td>\n",
       "      <td>-0.028764</td>\n",
       "      <td>-0.000168</td>\n",
       "      <td>0.053470</td>\n",
       "      <td>-0.119503</td>\n",
       "      <td>1.000000</td>\n",
       "      <td>0.991696</td>\n",
       "      <td>0.128565</td>\n",
       "      <td>-0.158186</td>\n",
       "      <td>0.627044</td>\n",
       "    </tr>\n",
       "    <tr>\n",
       "      <th>atemp</th>\n",
       "      <td>3.420139e-01</td>\n",
       "      <td>4.721519e-02</td>\n",
       "      <td>2.264302e-01</td>\n",
       "      <td>-0.032703</td>\n",
       "      <td>-0.007539</td>\n",
       "      <td>0.052940</td>\n",
       "      <td>-0.120559</td>\n",
       "      <td>0.991696</td>\n",
       "      <td>1.000000</td>\n",
       "      <td>0.141512</td>\n",
       "      <td>-0.183876</td>\n",
       "      <td>0.630685</td>\n",
       "    </tr>\n",
       "    <tr>\n",
       "      <th>hum</th>\n",
       "      <td>2.082196e-01</td>\n",
       "      <td>-1.125471e-01</td>\n",
       "      <td>2.249368e-01</td>\n",
       "      <td>-0.015662</td>\n",
       "      <td>-0.052290</td>\n",
       "      <td>0.023202</td>\n",
       "      <td>0.590277</td>\n",
       "      <td>0.128565</td>\n",
       "      <td>0.141512</td>\n",
       "      <td>1.000000</td>\n",
       "      <td>-0.248506</td>\n",
       "      <td>-0.098543</td>\n",
       "    </tr>\n",
       "    <tr>\n",
       "      <th>windspeed</th>\n",
       "      <td>-2.296069e-01</td>\n",
       "      <td>-1.162435e-02</td>\n",
       "      <td>-2.080131e-01</td>\n",
       "      <td>0.006257</td>\n",
       "      <td>0.014283</td>\n",
       "      <td>-0.018666</td>\n",
       "      <td>0.039769</td>\n",
       "      <td>-0.158186</td>\n",
       "      <td>-0.183876</td>\n",
       "      <td>-0.248506</td>\n",
       "      <td>1.000000</td>\n",
       "      <td>-0.235132</td>\n",
       "    </tr>\n",
       "    <tr>\n",
       "      <th>cnt</th>\n",
       "      <td>4.045838e-01</td>\n",
       "      <td>5.697285e-01</td>\n",
       "      <td>2.781909e-01</td>\n",
       "      <td>-0.068764</td>\n",
       "      <td>0.067534</td>\n",
       "      <td>0.062542</td>\n",
       "      <td>-0.295929</td>\n",
       "      <td>0.627044</td>\n",
       "      <td>0.630685</td>\n",
       "      <td>-0.098543</td>\n",
       "      <td>-0.235132</td>\n",
       "      <td>1.000000</td>\n",
       "    </tr>\n",
       "  </tbody>\n",
       "</table>\n",
       "</div>"
      ],
      "text/plain": [
       "                  season            yr          mnth   holiday   weekday  \\\n",
       "season      1.000000e+00 -3.279074e-16  8.310321e-01 -0.010868 -0.003081   \n",
       "yr         -3.279074e-16  1.000000e+00 -5.162656e-16  0.008195 -0.005466   \n",
       "mnth        8.310321e-01 -5.162656e-16  1.000000e+00  0.018905  0.009523   \n",
       "holiday    -1.086804e-02  8.195345e-03  1.890483e-02  1.000000 -0.101962   \n",
       "weekday    -3.081198e-03 -5.466369e-03  9.522969e-03 -0.101962  1.000000   \n",
       "workingday  1.376178e-02 -2.945396e-03 -4.687953e-03 -0.252948  0.035800   \n",
       "weathersit  2.130636e-02 -5.032247e-02  4.561335e-02 -0.034395  0.031112   \n",
       "temp        3.333607e-01  4.878919e-02  2.190833e-01 -0.028764 -0.000168   \n",
       "atemp       3.420139e-01  4.721519e-02  2.264302e-01 -0.032703 -0.007539   \n",
       "hum         2.082196e-01 -1.125471e-01  2.249368e-01 -0.015662 -0.052290   \n",
       "windspeed  -2.296069e-01 -1.162435e-02 -2.080131e-01  0.006257  0.014283   \n",
       "cnt         4.045838e-01  5.697285e-01  2.781909e-01 -0.068764  0.067534   \n",
       "\n",
       "            workingday  weathersit      temp     atemp       hum  windspeed  \\\n",
       "season        0.013762    0.021306  0.333361  0.342014  0.208220  -0.229607   \n",
       "yr           -0.002945   -0.050322  0.048789  0.047215 -0.112547  -0.011624   \n",
       "mnth         -0.004688    0.045613  0.219083  0.226430  0.224937  -0.208013   \n",
       "holiday      -0.252948   -0.034395 -0.028764 -0.032703 -0.015662   0.006257   \n",
       "weekday       0.035800    0.031112 -0.000168 -0.007539 -0.052290   0.014283   \n",
       "workingday    1.000000    0.060236  0.053470  0.052940  0.023202  -0.018666   \n",
       "weathersit    0.060236    1.000000 -0.119503 -0.120559  0.590277   0.039769   \n",
       "temp          0.053470   -0.119503  1.000000  0.991696  0.128565  -0.158186   \n",
       "atemp         0.052940   -0.120559  0.991696  1.000000  0.141512  -0.183876   \n",
       "hum           0.023202    0.590277  0.128565  0.141512  1.000000  -0.248506   \n",
       "windspeed    -0.018666    0.039769 -0.158186 -0.183876 -0.248506   1.000000   \n",
       "cnt           0.062542   -0.295929  0.627044  0.630685 -0.098543  -0.235132   \n",
       "\n",
       "                 cnt  \n",
       "season      0.404584  \n",
       "yr          0.569728  \n",
       "mnth        0.278191  \n",
       "holiday    -0.068764  \n",
       "weekday     0.067534  \n",
       "workingday  0.062542  \n",
       "weathersit -0.295929  \n",
       "temp        0.627044  \n",
       "atemp       0.630685  \n",
       "hum        -0.098543  \n",
       "windspeed  -0.235132  \n",
       "cnt         1.000000  "
      ]
     },
     "execution_count": 81,
     "metadata": {},
     "output_type": "execute_result"
    }
   ],
   "source": [
    "data_df.corr()\n"
   ]
  },
  {
   "cell_type": "code",
   "execution_count": 82,
   "id": "18588e91",
   "metadata": {},
   "outputs": [
    {
     "data": {
      "text/plain": [
       "<AxesSubplot:>"
      ]
     },
     "execution_count": 82,
     "metadata": {},
     "output_type": "execute_result"
    },
    {
     "data": {
      "image/png": "[encoded data removed]",
      "text/plain": [
       "<Figure size 1080x360 with 2 Axes>"
      ]
     },
     "metadata": {
      "needs_background": "light"
     },
     "output_type": "display_data"
    }
   ],
   "source": [
    "plt.figure(figsize=(15,5))\n",
    "sns.heatmap(data_df.corr(), annot=True, annot_kws={'size':11})"
   ]
  },
  {
   "cell_type": "markdown",
   "id": "df2f1e97",
   "metadata": {},
   "source": [
    "# Inference \n",
    "\n",
    "From the Chart we can see that the columns 'temp' and 'atemp' are correlated to each other which is reason we can use one of the columns, This can save some processing time. Hence we can drop atem and proceed with temp alone"
   ]
  },
  {
   "cell_type": "code",
   "execution_count": 83,
   "id": "b372f3df",
   "metadata": {},
   "outputs": [],
   "source": [
    "# droping atemp column\n",
    "data_df.drop(['atemp'],axis=1,inplace=True)\n"
   ]
  },
  {
   "cell_type": "code",
   "execution_count": 84,
   "id": "b1229b18",
   "metadata": {},
   "outputs": [
    {
     "data": {
      "text/plain": [
       "Index(['season', 'yr', 'mnth', 'holiday', 'weekday', 'workingday',\n",
       "       'weathersit', 'temp', 'hum', 'windspeed', 'cnt'],\n",
       "      dtype='object')"
      ]
     },
     "execution_count": 84,
     "metadata": {},
     "output_type": "execute_result"
    }
   ],
   "source": [
    "data_df.columns"
   ]
  },
  {
   "cell_type": "markdown",
   "id": "6b567b30",
   "metadata": {},
   "source": [
    "# One Hot Encoding"
   ]
  },
  {
   "cell_type": "code",
   "execution_count": 85,
   "id": "ae45ae03",
   "metadata": {},
   "outputs": [
    {
     "name": "stdout",
     "output_type": "stream",
     "text": [
      "<class 'pandas.core.frame.DataFrame'>\n",
      "RangeIndex: 730 entries, 0 to 729\n",
      "Data columns (total 11 columns):\n",
      " #   Column      Non-Null Count  Dtype   \n",
      "---  ------      --------------  -----   \n",
      " 0   season      730 non-null    category\n",
      " 1   yr          730 non-null    int64   \n",
      " 2   mnth        730 non-null    category\n",
      " 3   holiday     730 non-null    int64   \n",
      " 4   weekday     730 non-null    category\n",
      " 5   workingday  730 non-null    int64   \n",
      " 6   weathersit  730 non-null    category\n",
      " 7   temp        730 non-null    float64 \n",
      " 8   hum         730 non-null    float64 \n",
      " 9   windspeed   730 non-null    float64 \n",
      " 10  cnt         730 non-null    int64   \n",
      "dtypes: category(4), float64(3), int64(4)\n",
      "memory usage: 44.0 KB\n"
     ]
    }
   ],
   "source": [
    "#Converting to categorical variable\n",
    "col_type=['season','mnth','weekday','weathersit']\n",
    "\n",
    "for col in col_type:\n",
    "    data_df[col]=data_df[col].astype('category')\n",
    "    \n",
    "data_df.info()"
   ]
  },
  {
   "cell_type": "code",
   "execution_count": 86,
   "id": "6b3f93f6",
   "metadata": {},
   "outputs": [],
   "source": [
    "#Convert season,weekday and weathersit type as categorical\n",
    "data_df.season.replace({1:\"spring\", 2:\"summer\", 3:\"fall\", 4:\"winter\"},inplace = True)\n",
    "\n",
    "data_df.weathersit.replace({1:'good',2:'moderate',3:'bad',4:'severe'},inplace = True)\n",
    "\n",
    "data_df.mnth.replace({1: 'jan',2: 'feb',3: 'mar',4: 'apr',5: 'may',6: 'jun',\n",
    "                  7: 'jul',8: 'aug',9: 'sept',10: 'oct',11: 'nov',12: 'dec'},inplace = True)\n",
    "\n",
    "data_df.weekday.replace({0:'sun',1:'mon',2:'tue',3:'wed',4:'thur',5:'fri',6:'sat'},inplace = True)"
   ]
  },
  {
   "cell_type": "code",
   "execution_count": 87,
   "id": "35893712",
   "metadata": {},
   "outputs": [
    {
     "data": {
      "text/html": [
       "<div>\n",
       "<style scoped>\n",
       "    .dataframe tbody tr th:only-of-type {\n",
       "        vertical-align: middle;\n",
       "    }\n",
       "\n",
       "    .dataframe tbody tr th {\n",
       "        vertical-align: top;\n",
       "    }\n",
       "\n",
       "    .dataframe thead th {\n",
       "        text-align: right;\n",
       "    }\n",
       "</style>\n",
       "<table border=\"1\" class=\"dataframe\">\n",
       "  <thead>\n",
       "    <tr style=\"text-align: right;\">\n",
       "      <th></th>\n",
       "      <th>season</th>\n",
       "      <th>yr</th>\n",
       "      <th>mnth</th>\n",
       "      <th>holiday</th>\n",
       "      <th>weekday</th>\n",
       "      <th>workingday</th>\n",
       "      <th>weathersit</th>\n",
       "      <th>temp</th>\n",
       "      <th>hum</th>\n",
       "      <th>windspeed</th>\n",
       "      <th>cnt</th>\n",
       "    </tr>\n",
       "  </thead>\n",
       "  <tbody>\n",
       "    <tr>\n",
       "      <th>0</th>\n",
       "      <td>spring</td>\n",
       "      <td>0</td>\n",
       "      <td>jan</td>\n",
       "      <td>0</td>\n",
       "      <td>sat</td>\n",
       "      <td>0</td>\n",
       "      <td>moderate</td>\n",
       "      <td>14.110847</td>\n",
       "      <td>80.5833</td>\n",
       "      <td>10.749882</td>\n",
       "      <td>985</td>\n",
       "    </tr>\n",
       "    <tr>\n",
       "      <th>1</th>\n",
       "      <td>spring</td>\n",
       "      <td>0</td>\n",
       "      <td>jan</td>\n",
       "      <td>0</td>\n",
       "      <td>sun</td>\n",
       "      <td>0</td>\n",
       "      <td>moderate</td>\n",
       "      <td>14.902598</td>\n",
       "      <td>69.6087</td>\n",
       "      <td>16.652113</td>\n",
       "      <td>801</td>\n",
       "    </tr>\n",
       "    <tr>\n",
       "      <th>2</th>\n",
       "      <td>spring</td>\n",
       "      <td>0</td>\n",
       "      <td>jan</td>\n",
       "      <td>0</td>\n",
       "      <td>mon</td>\n",
       "      <td>1</td>\n",
       "      <td>good</td>\n",
       "      <td>8.050924</td>\n",
       "      <td>43.7273</td>\n",
       "      <td>16.636703</td>\n",
       "      <td>1349</td>\n",
       "    </tr>\n",
       "    <tr>\n",
       "      <th>3</th>\n",
       "      <td>spring</td>\n",
       "      <td>0</td>\n",
       "      <td>jan</td>\n",
       "      <td>0</td>\n",
       "      <td>tue</td>\n",
       "      <td>1</td>\n",
       "      <td>good</td>\n",
       "      <td>8.200000</td>\n",
       "      <td>59.0435</td>\n",
       "      <td>10.739832</td>\n",
       "      <td>1562</td>\n",
       "    </tr>\n",
       "    <tr>\n",
       "      <th>4</th>\n",
       "      <td>spring</td>\n",
       "      <td>0</td>\n",
       "      <td>jan</td>\n",
       "      <td>0</td>\n",
       "      <td>wed</td>\n",
       "      <td>1</td>\n",
       "      <td>good</td>\n",
       "      <td>9.305237</td>\n",
       "      <td>43.6957</td>\n",
       "      <td>12.522300</td>\n",
       "      <td>1600</td>\n",
       "    </tr>\n",
       "  </tbody>\n",
       "</table>\n",
       "</div>"
      ],
      "text/plain": [
       "   season  yr mnth  holiday weekday  workingday weathersit       temp  \\\n",
       "0  spring   0  jan        0     sat           0   moderate  14.110847   \n",
       "1  spring   0  jan        0     sun           0   moderate  14.902598   \n",
       "2  spring   0  jan        0     mon           1       good   8.050924   \n",
       "3  spring   0  jan        0     tue           1       good   8.200000   \n",
       "4  spring   0  jan        0     wed           1       good   9.305237   \n",
       "\n",
       "       hum  windspeed   cnt  \n",
       "0  80.5833  10.749882   985  \n",
       "1  69.6087  16.652113   801  \n",
       "2  43.7273  16.636703  1349  \n",
       "3  59.0435  10.739832  1562  \n",
       "4  43.6957  12.522300  1600  "
      ]
     },
     "execution_count": 87,
     "metadata": {},
     "output_type": "execute_result"
    }
   ],
   "source": [
    "data_df.head()"
   ]
  },
  {
   "cell_type": "code",
   "execution_count": 88,
   "id": "235cba23",
   "metadata": {},
   "outputs": [
    {
     "name": "stdout",
     "output_type": "stream",
     "text": [
      "<class 'pandas.core.frame.DataFrame'>\n",
      "RangeIndex: 730 entries, 0 to 729\n",
      "Data columns (total 11 columns):\n",
      " #   Column      Non-Null Count  Dtype  \n",
      "---  ------      --------------  -----  \n",
      " 0   season      730 non-null    object \n",
      " 1   yr          730 non-null    int64  \n",
      " 2   mnth        730 non-null    object \n",
      " 3   holiday     730 non-null    int64  \n",
      " 4   weekday     730 non-null    object \n",
      " 5   workingday  730 non-null    int64  \n",
      " 6   weathersit  730 non-null    object \n",
      " 7   temp        730 non-null    float64\n",
      " 8   hum         730 non-null    float64\n",
      " 9   windspeed   730 non-null    float64\n",
      " 10  cnt         730 non-null    int64  \n",
      "dtypes: float64(3), int64(4), object(4)\n",
      "memory usage: 62.9+ KB\n"
     ]
    }
   ],
   "source": [
    "data_df.info()"
   ]
  },
  {
   "cell_type": "code",
   "execution_count": 89,
   "id": "5baeb713",
   "metadata": {
    "scrolled": true
   },
   "outputs": [
    {
     "data": {
      "text/html": [
       "<div>\n",
       "<style scoped>\n",
       "    .dataframe tbody tr th:only-of-type {\n",
       "        vertical-align: middle;\n",
       "    }\n",
       "\n",
       "    .dataframe tbody tr th {\n",
       "        vertical-align: top;\n",
       "    }\n",
       "\n",
       "    .dataframe thead th {\n",
       "        text-align: right;\n",
       "    }\n",
       "</style>\n",
       "<table border=\"1\" class=\"dataframe\">\n",
       "  <thead>\n",
       "    <tr style=\"text-align: right;\">\n",
       "      <th></th>\n",
       "      <th>yr</th>\n",
       "      <th>holiday</th>\n",
       "      <th>workingday</th>\n",
       "      <th>temp</th>\n",
       "      <th>hum</th>\n",
       "      <th>windspeed</th>\n",
       "      <th>cnt</th>\n",
       "      <th>season_spring</th>\n",
       "      <th>season_summer</th>\n",
       "      <th>season_winter</th>\n",
       "      <th>...</th>\n",
       "      <th>mnth_oct</th>\n",
       "      <th>mnth_sept</th>\n",
       "      <th>weekday_mon</th>\n",
       "      <th>weekday_sat</th>\n",
       "      <th>weekday_sun</th>\n",
       "      <th>weekday_thur</th>\n",
       "      <th>weekday_tue</th>\n",
       "      <th>weekday_wed</th>\n",
       "      <th>weathersit_good</th>\n",
       "      <th>weathersit_moderate</th>\n",
       "    </tr>\n",
       "  </thead>\n",
       "  <tbody>\n",
       "    <tr>\n",
       "      <th>0</th>\n",
       "      <td>0</td>\n",
       "      <td>0</td>\n",
       "      <td>0</td>\n",
       "      <td>14.110847</td>\n",
       "      <td>80.5833</td>\n",
       "      <td>10.749882</td>\n",
       "      <td>985</td>\n",
       "      <td>1</td>\n",
       "      <td>0</td>\n",
       "      <td>0</td>\n",
       "      <td>...</td>\n",
       "      <td>0</td>\n",
       "      <td>0</td>\n",
       "      <td>0</td>\n",
       "      <td>1</td>\n",
       "      <td>0</td>\n",
       "      <td>0</td>\n",
       "      <td>0</td>\n",
       "      <td>0</td>\n",
       "      <td>0</td>\n",
       "      <td>1</td>\n",
       "    </tr>\n",
       "    <tr>\n",
       "      <th>1</th>\n",
       "      <td>0</td>\n",
       "      <td>0</td>\n",
       "      <td>0</td>\n",
       "      <td>14.902598</td>\n",
       "      <td>69.6087</td>\n",
       "      <td>16.652113</td>\n",
       "      <td>801</td>\n",
       "      <td>1</td>\n",
       "      <td>0</td>\n",
       "      <td>0</td>\n",
       "      <td>...</td>\n",
       "      <td>0</td>\n",
       "      <td>0</td>\n",
       "      <td>0</td>\n",
       "      <td>0</td>\n",
       "      <td>1</td>\n",
       "      <td>0</td>\n",
       "      <td>0</td>\n",
       "      <td>0</td>\n",
       "      <td>0</td>\n",
       "      <td>1</td>\n",
       "    </tr>\n",
       "    <tr>\n",
       "      <th>2</th>\n",
       "      <td>0</td>\n",
       "      <td>0</td>\n",
       "      <td>1</td>\n",
       "      <td>8.050924</td>\n",
       "      <td>43.7273</td>\n",
       "      <td>16.636703</td>\n",
       "      <td>1349</td>\n",
       "      <td>1</td>\n",
       "      <td>0</td>\n",
       "      <td>0</td>\n",
       "      <td>...</td>\n",
       "      <td>0</td>\n",
       "      <td>0</td>\n",
       "      <td>1</td>\n",
       "      <td>0</td>\n",
       "      <td>0</td>\n",
       "      <td>0</td>\n",
       "      <td>0</td>\n",
       "      <td>0</td>\n",
       "      <td>1</td>\n",
       "      <td>0</td>\n",
       "    </tr>\n",
       "    <tr>\n",
       "      <th>3</th>\n",
       "      <td>0</td>\n",
       "      <td>0</td>\n",
       "      <td>1</td>\n",
       "      <td>8.200000</td>\n",
       "      <td>59.0435</td>\n",
       "      <td>10.739832</td>\n",
       "      <td>1562</td>\n",
       "      <td>1</td>\n",
       "      <td>0</td>\n",
       "      <td>0</td>\n",
       "      <td>...</td>\n",
       "      <td>0</td>\n",
       "      <td>0</td>\n",
       "      <td>0</td>\n",
       "      <td>0</td>\n",
       "      <td>0</td>\n",
       "      <td>0</td>\n",
       "      <td>1</td>\n",
       "      <td>0</td>\n",
       "      <td>1</td>\n",
       "      <td>0</td>\n",
       "    </tr>\n",
       "    <tr>\n",
       "      <th>4</th>\n",
       "      <td>0</td>\n",
       "      <td>0</td>\n",
       "      <td>1</td>\n",
       "      <td>9.305237</td>\n",
       "      <td>43.6957</td>\n",
       "      <td>12.522300</td>\n",
       "      <td>1600</td>\n",
       "      <td>1</td>\n",
       "      <td>0</td>\n",
       "      <td>0</td>\n",
       "      <td>...</td>\n",
       "      <td>0</td>\n",
       "      <td>0</td>\n",
       "      <td>0</td>\n",
       "      <td>0</td>\n",
       "      <td>0</td>\n",
       "      <td>0</td>\n",
       "      <td>0</td>\n",
       "      <td>1</td>\n",
       "      <td>1</td>\n",
       "      <td>0</td>\n",
       "    </tr>\n",
       "  </tbody>\n",
       "</table>\n",
       "<p>5 rows × 29 columns</p>\n",
       "</div>"
      ],
      "text/plain": [
       "   yr  holiday  workingday       temp      hum  windspeed   cnt  \\\n",
       "0   0        0           0  14.110847  80.5833  10.749882   985   \n",
       "1   0        0           0  14.902598  69.6087  16.652113   801   \n",
       "2   0        0           1   8.050924  43.7273  16.636703  1349   \n",
       "3   0        0           1   8.200000  59.0435  10.739832  1562   \n",
       "4   0        0           1   9.305237  43.6957  12.522300  1600   \n",
       "\n",
       "   season_spring  season_summer  season_winter  ...  mnth_oct  mnth_sept  \\\n",
       "0              1              0              0  ...         0          0   \n",
       "1              1              0              0  ...         0          0   \n",
       "2              1              0              0  ...         0          0   \n",
       "3              1              0              0  ...         0          0   \n",
       "4              1              0              0  ...         0          0   \n",
       "\n",
       "   weekday_mon  weekday_sat  weekday_sun  weekday_thur  weekday_tue  \\\n",
       "0            0            1            0             0            0   \n",
       "1            0            0            1             0            0   \n",
       "2            1            0            0             0            0   \n",
       "3            0            0            0             0            1   \n",
       "4            0            0            0             0            0   \n",
       "\n",
       "   weekday_wed  weathersit_good  weathersit_moderate  \n",
       "0            0                0                    1  \n",
       "1            0                0                    1  \n",
       "2            0                1                    0  \n",
       "3            0                1                    0  \n",
       "4            1                1                    0  \n",
       "\n",
       "[5 rows x 29 columns]"
      ]
     },
     "execution_count": 89,
     "metadata": {},
     "output_type": "execute_result"
    }
   ],
   "source": [
    "#Creatings dummy columns\n",
    "\n",
    "def one_hot_encoding(data, column):\n",
    "    data = pd.concat([data, pd.get_dummies(data[column], prefix=column, drop_first=True)], axis=1)\n",
    "    data = data.drop([column],axis=1)\n",
    "    return data\n",
    "\n",
    "#axis =1 for Column, axis =0 Row\n",
    "\n",
    "col_type=['season','mnth','weekday','weathersit']\n",
    "\n",
    "for col in col_type:\n",
    "    data_df = one_hot_encoding(data_df,col)\n",
    "    \n",
    "data_df.head()"
   ]
  },
  {
   "cell_type": "code",
   "execution_count": 90,
   "id": "83694888",
   "metadata": {},
   "outputs": [
    {
     "data": {
      "text/plain": [
       "Index(['yr', 'holiday', 'workingday', 'temp', 'hum', 'windspeed', 'cnt',\n",
       "       'season_spring', 'season_summer', 'season_winter', 'mnth_aug',\n",
       "       'mnth_dec', 'mnth_feb', 'mnth_jan', 'mnth_jul', 'mnth_jun', 'mnth_mar',\n",
       "       'mnth_may', 'mnth_nov', 'mnth_oct', 'mnth_sept', 'weekday_mon',\n",
       "       'weekday_sat', 'weekday_sun', 'weekday_thur', 'weekday_tue',\n",
       "       'weekday_wed', 'weathersit_good', 'weathersit_moderate'],\n",
       "      dtype='object')"
      ]
     },
     "execution_count": 90,
     "metadata": {},
     "output_type": "execute_result"
    }
   ],
   "source": [
    "data_df.columns"
   ]
  },
  {
   "cell_type": "markdown",
   "id": "820da21e",
   "metadata": {},
   "source": [
    "# Spliting data for Modelimg"
   ]
  },
  {
   "cell_type": "code",
   "execution_count": 103,
   "id": "9c004f9d",
   "metadata": {},
   "outputs": [],
   "source": [
    "data_reg_df = pd.DataFrame.from_dict(data_df)\n"
   ]
  },
  {
   "cell_type": "code",
   "execution_count": 104,
   "id": "da9cdb31",
   "metadata": {},
   "outputs": [
    {
     "data": {
      "text/html": [
       "<div>\n",
       "<style scoped>\n",
       "    .dataframe tbody tr th:only-of-type {\n",
       "        vertical-align: middle;\n",
       "    }\n",
       "\n",
       "    .dataframe tbody tr th {\n",
       "        vertical-align: top;\n",
       "    }\n",
       "\n",
       "    .dataframe thead th {\n",
       "        text-align: right;\n",
       "    }\n",
       "</style>\n",
       "<table border=\"1\" class=\"dataframe\">\n",
       "  <thead>\n",
       "    <tr style=\"text-align: right;\">\n",
       "      <th></th>\n",
       "      <th>yr</th>\n",
       "      <th>holiday</th>\n",
       "      <th>workingday</th>\n",
       "      <th>temp</th>\n",
       "      <th>hum</th>\n",
       "      <th>windspeed</th>\n",
       "      <th>cnt</th>\n",
       "      <th>season_spring</th>\n",
       "      <th>season_summer</th>\n",
       "      <th>season_winter</th>\n",
       "      <th>...</th>\n",
       "      <th>mnth_oct</th>\n",
       "      <th>mnth_sept</th>\n",
       "      <th>weekday_mon</th>\n",
       "      <th>weekday_sat</th>\n",
       "      <th>weekday_sun</th>\n",
       "      <th>weekday_thur</th>\n",
       "      <th>weekday_tue</th>\n",
       "      <th>weekday_wed</th>\n",
       "      <th>weathersit_good</th>\n",
       "      <th>weathersit_moderate</th>\n",
       "    </tr>\n",
       "  </thead>\n",
       "  <tbody>\n",
       "    <tr>\n",
       "      <th>0</th>\n",
       "      <td>0</td>\n",
       "      <td>0</td>\n",
       "      <td>0</td>\n",
       "      <td>14.110847</td>\n",
       "      <td>80.5833</td>\n",
       "      <td>10.749882</td>\n",
       "      <td>985</td>\n",
       "      <td>1</td>\n",
       "      <td>0</td>\n",
       "      <td>0</td>\n",
       "      <td>...</td>\n",
       "      <td>0</td>\n",
       "      <td>0</td>\n",
       "      <td>0</td>\n",
       "      <td>1</td>\n",
       "      <td>0</td>\n",
       "      <td>0</td>\n",
       "      <td>0</td>\n",
       "      <td>0</td>\n",
       "      <td>0</td>\n",
       "      <td>1</td>\n",
       "    </tr>\n",
       "    <tr>\n",
       "      <th>1</th>\n",
       "      <td>0</td>\n",
       "      <td>0</td>\n",
       "      <td>0</td>\n",
       "      <td>14.902598</td>\n",
       "      <td>69.6087</td>\n",
       "      <td>16.652113</td>\n",
       "      <td>801</td>\n",
       "      <td>1</td>\n",
       "      <td>0</td>\n",
       "      <td>0</td>\n",
       "      <td>...</td>\n",
       "      <td>0</td>\n",
       "      <td>0</td>\n",
       "      <td>0</td>\n",
       "      <td>0</td>\n",
       "      <td>1</td>\n",
       "      <td>0</td>\n",
       "      <td>0</td>\n",
       "      <td>0</td>\n",
       "      <td>0</td>\n",
       "      <td>1</td>\n",
       "    </tr>\n",
       "    <tr>\n",
       "      <th>2</th>\n",
       "      <td>0</td>\n",
       "      <td>0</td>\n",
       "      <td>1</td>\n",
       "      <td>8.050924</td>\n",
       "      <td>43.7273</td>\n",
       "      <td>16.636703</td>\n",
       "      <td>1349</td>\n",
       "      <td>1</td>\n",
       "      <td>0</td>\n",
       "      <td>0</td>\n",
       "      <td>...</td>\n",
       "      <td>0</td>\n",
       "      <td>0</td>\n",
       "      <td>1</td>\n",
       "      <td>0</td>\n",
       "      <td>0</td>\n",
       "      <td>0</td>\n",
       "      <td>0</td>\n",
       "      <td>0</td>\n",
       "      <td>1</td>\n",
       "      <td>0</td>\n",
       "    </tr>\n",
       "    <tr>\n",
       "      <th>3</th>\n",
       "      <td>0</td>\n",
       "      <td>0</td>\n",
       "      <td>1</td>\n",
       "      <td>8.200000</td>\n",
       "      <td>59.0435</td>\n",
       "      <td>10.739832</td>\n",
       "      <td>1562</td>\n",
       "      <td>1</td>\n",
       "      <td>0</td>\n",
       "      <td>0</td>\n",
       "      <td>...</td>\n",
       "      <td>0</td>\n",
       "      <td>0</td>\n",
       "      <td>0</td>\n",
       "      <td>0</td>\n",
       "      <td>0</td>\n",
       "      <td>0</td>\n",
       "      <td>1</td>\n",
       "      <td>0</td>\n",
       "      <td>1</td>\n",
       "      <td>0</td>\n",
       "    </tr>\n",
       "    <tr>\n",
       "      <th>4</th>\n",
       "      <td>0</td>\n",
       "      <td>0</td>\n",
       "      <td>1</td>\n",
       "      <td>9.305237</td>\n",
       "      <td>43.6957</td>\n",
       "      <td>12.522300</td>\n",
       "      <td>1600</td>\n",
       "      <td>1</td>\n",
       "      <td>0</td>\n",
       "      <td>0</td>\n",
       "      <td>...</td>\n",
       "      <td>0</td>\n",
       "      <td>0</td>\n",
       "      <td>0</td>\n",
       "      <td>0</td>\n",
       "      <td>0</td>\n",
       "      <td>0</td>\n",
       "      <td>0</td>\n",
       "      <td>1</td>\n",
       "      <td>1</td>\n",
       "      <td>0</td>\n",
       "    </tr>\n",
       "  </tbody>\n",
       "</table>\n",
       "<p>5 rows × 29 columns</p>\n",
       "</div>"
      ],
      "text/plain": [
       "   yr  holiday  workingday       temp      hum  windspeed   cnt  \\\n",
       "0   0        0           0  14.110847  80.5833  10.749882   985   \n",
       "1   0        0           0  14.902598  69.6087  16.652113   801   \n",
       "2   0        0           1   8.050924  43.7273  16.636703  1349   \n",
       "3   0        0           1   8.200000  59.0435  10.739832  1562   \n",
       "4   0        0           1   9.305237  43.6957  12.522300  1600   \n",
       "\n",
       "   season_spring  season_summer  season_winter  ...  mnth_oct  mnth_sept  \\\n",
       "0              1              0              0  ...         0          0   \n",
       "1              1              0              0  ...         0          0   \n",
       "2              1              0              0  ...         0          0   \n",
       "3              1              0              0  ...         0          0   \n",
       "4              1              0              0  ...         0          0   \n",
       "\n",
       "   weekday_mon  weekday_sat  weekday_sun  weekday_thur  weekday_tue  \\\n",
       "0            0            1            0             0            0   \n",
       "1            0            0            1             0            0   \n",
       "2            1            0            0             0            0   \n",
       "3            0            0            0             0            1   \n",
       "4            0            0            0             0            0   \n",
       "\n",
       "   weekday_wed  weathersit_good  weathersit_moderate  \n",
       "0            0                0                    1  \n",
       "1            0                0                    1  \n",
       "2            0                1                    0  \n",
       "3            0                1                    0  \n",
       "4            1                1                    0  \n",
       "\n",
       "[5 rows x 29 columns]"
      ]
     },
     "execution_count": 104,
     "metadata": {},
     "output_type": "execute_result"
    }
   ],
   "source": [
    "data_reg_df.head()"
   ]
  },
  {
   "cell_type": "code",
   "execution_count": 105,
   "id": "4ab2d427",
   "metadata": {},
   "outputs": [
    {
     "data": {
      "text/plain": [
       "Index(['yr', 'holiday', 'workingday', 'temp', 'hum', 'windspeed', 'cnt',\n",
       "       'season_spring', 'season_summer', 'season_winter', 'mnth_aug',\n",
       "       'mnth_dec', 'mnth_feb', 'mnth_jan', 'mnth_jul', 'mnth_jun', 'mnth_mar',\n",
       "       'mnth_may', 'mnth_nov', 'mnth_oct', 'mnth_sept', 'weekday_mon',\n",
       "       'weekday_sat', 'weekday_sun', 'weekday_thur', 'weekday_tue',\n",
       "       'weekday_wed', 'weathersit_good', 'weathersit_moderate'],\n",
       "      dtype='object')"
      ]
     },
     "execution_count": 105,
     "metadata": {},
     "output_type": "execute_result"
    }
   ],
   "source": [
    "data_reg_df.columns"
   ]
  },
  {
   "cell_type": "code",
   "execution_count": 106,
   "id": "a83a4492",
   "metadata": {
    "scrolled": true
   },
   "outputs": [],
   "source": [
    "x = data_reg_df\n",
    "y = data_reg_df['cnt']"
   ]
  },
  {
   "cell_type": "code",
   "execution_count": 107,
   "id": "74787eed",
   "metadata": {},
   "outputs": [],
   "source": [
    "x.drop(['cnt'],axis=1,inplace= True)"
   ]
  },
  {
   "cell_type": "code",
   "execution_count": 108,
   "id": "1ea0149a",
   "metadata": {},
   "outputs": [
    {
     "data": {
      "text/plain": [
       "Index(['yr', 'holiday', 'workingday', 'temp', 'hum', 'windspeed',\n",
       "       'season_spring', 'season_summer', 'season_winter', 'mnth_aug',\n",
       "       'mnth_dec', 'mnth_feb', 'mnth_jan', 'mnth_jul', 'mnth_jun', 'mnth_mar',\n",
       "       'mnth_may', 'mnth_nov', 'mnth_oct', 'mnth_sept', 'weekday_mon',\n",
       "       'weekday_sat', 'weekday_sun', 'weekday_thur', 'weekday_tue',\n",
       "       'weekday_wed', 'weathersit_good', 'weathersit_moderate'],\n",
       "      dtype='object')"
      ]
     },
     "execution_count": 108,
     "metadata": {},
     "output_type": "execute_result"
    }
   ],
   "source": [
    "x.columns"
   ]
  },
  {
   "cell_type": "code",
   "execution_count": 109,
   "id": "23c4876a",
   "metadata": {},
   "outputs": [],
   "source": [
    "from sklearn.linear_model import LinearRegression\n",
    "from sklearn.model_selection import train_test_split"
   ]
  },
  {
   "cell_type": "code",
   "execution_count": 110,
   "id": "e3c65e9e",
   "metadata": {},
   "outputs": [
    {
     "data": {
      "text/plain": [
       "(730, 28)"
      ]
     },
     "execution_count": 110,
     "metadata": {},
     "output_type": "execute_result"
    }
   ],
   "source": [
    "data_reg_df.shape"
   ]
  },
  {
   "cell_type": "markdown",
   "id": "44908b26",
   "metadata": {},
   "source": [
    "# Modeling of data"
   ]
  },
  {
   "cell_type": "code",
   "execution_count": 111,
   "id": "f97a08ae",
   "metadata": {},
   "outputs": [],
   "source": [
    "X_train,X_test,Y_train,Y_test = train_test_split(x,y,test_size=0.20,random_state=42)"
   ]
  },
  {
   "cell_type": "code",
   "execution_count": 112,
   "id": "eeee6baf",
   "metadata": {},
   "outputs": [
    {
     "data": {
      "text/plain": [
       "((584, 28), (146, 28), (584,), (146,))"
      ]
     },
     "execution_count": 112,
     "metadata": {},
     "output_type": "execute_result"
    }
   ],
   "source": [
    "X_train.shape, X_test.shape,Y_train.shape, Y_test.shape"
   ]
  },
  {
   "cell_type": "code",
   "execution_count": 113,
   "id": "46e7481f",
   "metadata": {},
   "outputs": [
    {
     "name": "stderr",
     "output_type": "stream",
     "text": [
      "<ipython-input-113-4952f7c9177e>:6: SettingWithCopyWarning: \n",
      "A value is trying to be set on a copy of a slice from a DataFrame.\n",
      "Try using .loc[row_indexer,col_indexer] = value instead\n",
      "\n",
      "See the caveats in the documentation: https://pandas.pydata.org/pandas-docs/stable/user_guide/indexing.html#returning-a-view-versus-a-copy\n",
      "  X_train[num_vars] = scaler.fit_transform(X_train[num_vars])\n",
      "C:\\Users\\PC125\\anaconda3\\lib\\site-packages\\pandas\\core\\indexing.py:1738: SettingWithCopyWarning: \n",
      "A value is trying to be set on a copy of a slice from a DataFrame.\n",
      "Try using .loc[row_indexer,col_indexer] = value instead\n",
      "\n",
      "See the caveats in the documentation: https://pandas.pydata.org/pandas-docs/stable/user_guide/indexing.html#returning-a-view-versus-a-copy\n",
      "  self._setitem_single_column(loc, value[:, i].tolist(), pi)\n",
      "<ipython-input-113-4952f7c9177e>:7: SettingWithCopyWarning: \n",
      "A value is trying to be set on a copy of a slice from a DataFrame.\n",
      "Try using .loc[row_indexer,col_indexer] = value instead\n",
      "\n",
      "See the caveats in the documentation: https://pandas.pydata.org/pandas-docs/stable/user_guide/indexing.html#returning-a-view-versus-a-copy\n",
      "  X_test[num_vars] = scaler.fit_transform(X_test[num_vars])\n",
      "C:\\Users\\PC125\\anaconda3\\lib\\site-packages\\pandas\\core\\indexing.py:1738: SettingWithCopyWarning: \n",
      "A value is trying to be set on a copy of a slice from a DataFrame.\n",
      "Try using .loc[row_indexer,col_indexer] = value instead\n",
      "\n",
      "See the caveats in the documentation: https://pandas.pydata.org/pandas-docs/stable/user_guide/indexing.html#returning-a-view-versus-a-copy\n",
      "  self._setitem_single_column(loc, value[:, i].tolist(), pi)\n"
     ]
    }
   ],
   "source": [
    "from sklearn.preprocessing import MinMaxScaler\n",
    "num_vars = ['temp','hum','windspeed']\n",
    "\n",
    "scaler = MinMaxScaler()\n",
    "\n",
    "X_train[num_vars] = scaler.fit_transform(X_train[num_vars])\n",
    "X_test[num_vars] = scaler.fit_transform(X_test[num_vars])"
   ]
  },
  {
   "cell_type": "code",
   "execution_count": 114,
   "id": "41f974fb",
   "metadata": {},
   "outputs": [
    {
     "data": {
      "text/html": [
       "<div>\n",
       "<style scoped>\n",
       "    .dataframe tbody tr th:only-of-type {\n",
       "        vertical-align: middle;\n",
       "    }\n",
       "\n",
       "    .dataframe tbody tr th {\n",
       "        vertical-align: top;\n",
       "    }\n",
       "\n",
       "    .dataframe thead th {\n",
       "        text-align: right;\n",
       "    }\n",
       "</style>\n",
       "<table border=\"1\" class=\"dataframe\">\n",
       "  <thead>\n",
       "    <tr style=\"text-align: right;\">\n",
       "      <th></th>\n",
       "      <th>yr</th>\n",
       "      <th>holiday</th>\n",
       "      <th>workingday</th>\n",
       "      <th>temp</th>\n",
       "      <th>hum</th>\n",
       "      <th>windspeed</th>\n",
       "      <th>season_spring</th>\n",
       "      <th>season_summer</th>\n",
       "      <th>season_winter</th>\n",
       "      <th>mnth_aug</th>\n",
       "      <th>...</th>\n",
       "      <th>mnth_oct</th>\n",
       "      <th>mnth_sept</th>\n",
       "      <th>weekday_mon</th>\n",
       "      <th>weekday_sat</th>\n",
       "      <th>weekday_sun</th>\n",
       "      <th>weekday_thur</th>\n",
       "      <th>weekday_tue</th>\n",
       "      <th>weekday_wed</th>\n",
       "      <th>weathersit_good</th>\n",
       "      <th>weathersit_moderate</th>\n",
       "    </tr>\n",
       "  </thead>\n",
       "  <tbody>\n",
       "    <tr>\n",
       "      <th>247</th>\n",
       "      <td>0</td>\n",
       "      <td>1</td>\n",
       "      <td>0</td>\n",
       "      <td>0.765327</td>\n",
       "      <td>0.814513</td>\n",
       "      <td>0.475900</td>\n",
       "      <td>0</td>\n",
       "      <td>0</td>\n",
       "      <td>0</td>\n",
       "      <td>0</td>\n",
       "      <td>...</td>\n",
       "      <td>0</td>\n",
       "      <td>1</td>\n",
       "      <td>1</td>\n",
       "      <td>0</td>\n",
       "      <td>0</td>\n",
       "      <td>0</td>\n",
       "      <td>0</td>\n",
       "      <td>0</td>\n",
       "      <td>0</td>\n",
       "      <td>1</td>\n",
       "    </tr>\n",
       "    <tr>\n",
       "      <th>335</th>\n",
       "      <td>0</td>\n",
       "      <td>0</td>\n",
       "      <td>1</td>\n",
       "      <td>0.317788</td>\n",
       "      <td>0.644911</td>\n",
       "      <td>0.195963</td>\n",
       "      <td>0</td>\n",
       "      <td>0</td>\n",
       "      <td>1</td>\n",
       "      <td>0</td>\n",
       "      <td>...</td>\n",
       "      <td>0</td>\n",
       "      <td>0</td>\n",
       "      <td>0</td>\n",
       "      <td>0</td>\n",
       "      <td>0</td>\n",
       "      <td>0</td>\n",
       "      <td>0</td>\n",
       "      <td>0</td>\n",
       "      <td>1</td>\n",
       "      <td>0</td>\n",
       "    </tr>\n",
       "    <tr>\n",
       "      <th>702</th>\n",
       "      <td>1</td>\n",
       "      <td>0</td>\n",
       "      <td>1</td>\n",
       "      <td>0.519232</td>\n",
       "      <td>0.756118</td>\n",
       "      <td>0.379454</td>\n",
       "      <td>0</td>\n",
       "      <td>0</td>\n",
       "      <td>1</td>\n",
       "      <td>0</td>\n",
       "      <td>...</td>\n",
       "      <td>0</td>\n",
       "      <td>0</td>\n",
       "      <td>0</td>\n",
       "      <td>0</td>\n",
       "      <td>0</td>\n",
       "      <td>0</td>\n",
       "      <td>1</td>\n",
       "      <td>0</td>\n",
       "      <td>1</td>\n",
       "      <td>0</td>\n",
       "    </tr>\n",
       "    <tr>\n",
       "      <th>440</th>\n",
       "      <td>1</td>\n",
       "      <td>0</td>\n",
       "      <td>0</td>\n",
       "      <td>0.566998</td>\n",
       "      <td>0.778874</td>\n",
       "      <td>0.220845</td>\n",
       "      <td>1</td>\n",
       "      <td>0</td>\n",
       "      <td>0</td>\n",
       "      <td>0</td>\n",
       "      <td>...</td>\n",
       "      <td>0</td>\n",
       "      <td>0</td>\n",
       "      <td>0</td>\n",
       "      <td>1</td>\n",
       "      <td>0</td>\n",
       "      <td>0</td>\n",
       "      <td>0</td>\n",
       "      <td>0</td>\n",
       "      <td>0</td>\n",
       "      <td>1</td>\n",
       "    </tr>\n",
       "    <tr>\n",
       "      <th>136</th>\n",
       "      <td>0</td>\n",
       "      <td>0</td>\n",
       "      <td>1</td>\n",
       "      <td>0.626185</td>\n",
       "      <td>0.863461</td>\n",
       "      <td>0.637592</td>\n",
       "      <td>0</td>\n",
       "      <td>1</td>\n",
       "      <td>0</td>\n",
       "      <td>0</td>\n",
       "      <td>...</td>\n",
       "      <td>0</td>\n",
       "      <td>0</td>\n",
       "      <td>0</td>\n",
       "      <td>0</td>\n",
       "      <td>0</td>\n",
       "      <td>0</td>\n",
       "      <td>1</td>\n",
       "      <td>0</td>\n",
       "      <td>0</td>\n",
       "      <td>1</td>\n",
       "    </tr>\n",
       "  </tbody>\n",
       "</table>\n",
       "<p>5 rows × 28 columns</p>\n",
       "</div>"
      ],
      "text/plain": [
       "     yr  holiday  workingday      temp       hum  windspeed  season_spring  \\\n",
       "247   0        1           0  0.765327  0.814513   0.475900              0   \n",
       "335   0        0           1  0.317788  0.644911   0.195963              0   \n",
       "702   1        0           1  0.519232  0.756118   0.379454              0   \n",
       "440   1        0           0  0.566998  0.778874   0.220845              1   \n",
       "136   0        0           1  0.626185  0.863461   0.637592              0   \n",
       "\n",
       "     season_summer  season_winter  mnth_aug  ...  mnth_oct  mnth_sept  \\\n",
       "247              0              0         0  ...         0          1   \n",
       "335              0              1         0  ...         0          0   \n",
       "702              0              1         0  ...         0          0   \n",
       "440              0              0         0  ...         0          0   \n",
       "136              1              0         0  ...         0          0   \n",
       "\n",
       "     weekday_mon  weekday_sat  weekday_sun  weekday_thur  weekday_tue  \\\n",
       "247            1            0            0             0            0   \n",
       "335            0            0            0             0            0   \n",
       "702            0            0            0             0            1   \n",
       "440            0            1            0             0            0   \n",
       "136            0            0            0             0            1   \n",
       "\n",
       "     weekday_wed  weathersit_good  weathersit_moderate  \n",
       "247            0                0                    1  \n",
       "335            0                1                    0  \n",
       "702            0                1                    0  \n",
       "440            0                0                    1  \n",
       "136            0                0                    1  \n",
       "\n",
       "[5 rows x 28 columns]"
      ]
     },
     "execution_count": 114,
     "metadata": {},
     "output_type": "execute_result"
    }
   ],
   "source": [
    "X_train.head()"
   ]
  },
  {
   "cell_type": "code",
   "execution_count": 115,
   "id": "a3ae81cc",
   "metadata": {},
   "outputs": [
    {
     "data": {
      "text/html": [
       "<div>\n",
       "<style scoped>\n",
       "    .dataframe tbody tr th:only-of-type {\n",
       "        vertical-align: middle;\n",
       "    }\n",
       "\n",
       "    .dataframe tbody tr th {\n",
       "        vertical-align: top;\n",
       "    }\n",
       "\n",
       "    .dataframe thead th {\n",
       "        text-align: right;\n",
       "    }\n",
       "</style>\n",
       "<table border=\"1\" class=\"dataframe\">\n",
       "  <thead>\n",
       "    <tr style=\"text-align: right;\">\n",
       "      <th></th>\n",
       "      <th>yr</th>\n",
       "      <th>holiday</th>\n",
       "      <th>workingday</th>\n",
       "      <th>temp</th>\n",
       "      <th>hum</th>\n",
       "      <th>windspeed</th>\n",
       "      <th>season_spring</th>\n",
       "      <th>season_summer</th>\n",
       "      <th>season_winter</th>\n",
       "      <th>mnth_aug</th>\n",
       "      <th>...</th>\n",
       "      <th>mnth_oct</th>\n",
       "      <th>mnth_sept</th>\n",
       "      <th>weekday_mon</th>\n",
       "      <th>weekday_sat</th>\n",
       "      <th>weekday_sun</th>\n",
       "      <th>weekday_thur</th>\n",
       "      <th>weekday_tue</th>\n",
       "      <th>weekday_wed</th>\n",
       "      <th>weathersit_good</th>\n",
       "      <th>weathersit_moderate</th>\n",
       "    </tr>\n",
       "  </thead>\n",
       "  <tbody>\n",
       "    <tr>\n",
       "      <th>count</th>\n",
       "      <td>584.000000</td>\n",
       "      <td>584.000000</td>\n",
       "      <td>584.000000</td>\n",
       "      <td>584.000000</td>\n",
       "      <td>584.000000</td>\n",
       "      <td>584.000000</td>\n",
       "      <td>584.000000</td>\n",
       "      <td>584.000000</td>\n",
       "      <td>584.000000</td>\n",
       "      <td>584.000000</td>\n",
       "      <td>...</td>\n",
       "      <td>584.000000</td>\n",
       "      <td>584.000000</td>\n",
       "      <td>584.000000</td>\n",
       "      <td>584.000000</td>\n",
       "      <td>584.000000</td>\n",
       "      <td>584.000000</td>\n",
       "      <td>584.000000</td>\n",
       "      <td>584.000000</td>\n",
       "      <td>584.000000</td>\n",
       "      <td>584.000000</td>\n",
       "    </tr>\n",
       "    <tr>\n",
       "      <th>mean</th>\n",
       "      <td>0.511986</td>\n",
       "      <td>0.032534</td>\n",
       "      <td>0.672945</td>\n",
       "      <td>0.551484</td>\n",
       "      <td>0.654151</td>\n",
       "      <td>0.410017</td>\n",
       "      <td>0.229452</td>\n",
       "      <td>0.250000</td>\n",
       "      <td>0.255137</td>\n",
       "      <td>0.077055</td>\n",
       "      <td>...</td>\n",
       "      <td>0.095890</td>\n",
       "      <td>0.085616</td>\n",
       "      <td>0.147260</td>\n",
       "      <td>0.143836</td>\n",
       "      <td>0.150685</td>\n",
       "      <td>0.147260</td>\n",
       "      <td>0.138699</td>\n",
       "      <td>0.138699</td>\n",
       "      <td>0.623288</td>\n",
       "      <td>0.344178</td>\n",
       "    </tr>\n",
       "    <tr>\n",
       "      <th>std</th>\n",
       "      <td>0.500285</td>\n",
       "      <td>0.177566</td>\n",
       "      <td>0.469540</td>\n",
       "      <td>0.227249</td>\n",
       "      <td>0.146644</td>\n",
       "      <td>0.187249</td>\n",
       "      <td>0.420841</td>\n",
       "      <td>0.433384</td>\n",
       "      <td>0.436312</td>\n",
       "      <td>0.266907</td>\n",
       "      <td>...</td>\n",
       "      <td>0.294693</td>\n",
       "      <td>0.280037</td>\n",
       "      <td>0.354669</td>\n",
       "      <td>0.351224</td>\n",
       "      <td>0.358048</td>\n",
       "      <td>0.354669</td>\n",
       "      <td>0.345928</td>\n",
       "      <td>0.345928</td>\n",
       "      <td>0.484977</td>\n",
       "      <td>0.475507</td>\n",
       "    </tr>\n",
       "    <tr>\n",
       "      <th>min</th>\n",
       "      <td>0.000000</td>\n",
       "      <td>0.000000</td>\n",
       "      <td>0.000000</td>\n",
       "      <td>0.000000</td>\n",
       "      <td>0.000000</td>\n",
       "      <td>0.000000</td>\n",
       "      <td>0.000000</td>\n",
       "      <td>0.000000</td>\n",
       "      <td>0.000000</td>\n",
       "      <td>0.000000</td>\n",
       "      <td>...</td>\n",
       "      <td>0.000000</td>\n",
       "      <td>0.000000</td>\n",
       "      <td>0.000000</td>\n",
       "      <td>0.000000</td>\n",
       "      <td>0.000000</td>\n",
       "      <td>0.000000</td>\n",
       "      <td>0.000000</td>\n",
       "      <td>0.000000</td>\n",
       "      <td>0.000000</td>\n",
       "      <td>0.000000</td>\n",
       "    </tr>\n",
       "    <tr>\n",
       "      <th>25%</th>\n",
       "      <td>0.000000</td>\n",
       "      <td>0.000000</td>\n",
       "      <td>0.000000</td>\n",
       "      <td>0.354266</td>\n",
       "      <td>0.542745</td>\n",
       "      <td>0.276424</td>\n",
       "      <td>0.000000</td>\n",
       "      <td>0.000000</td>\n",
       "      <td>0.000000</td>\n",
       "      <td>0.000000</td>\n",
       "      <td>...</td>\n",
       "      <td>0.000000</td>\n",
       "      <td>0.000000</td>\n",
       "      <td>0.000000</td>\n",
       "      <td>0.000000</td>\n",
       "      <td>0.000000</td>\n",
       "      <td>0.000000</td>\n",
       "      <td>0.000000</td>\n",
       "      <td>0.000000</td>\n",
       "      <td>0.000000</td>\n",
       "      <td>0.000000</td>\n",
       "    </tr>\n",
       "    <tr>\n",
       "      <th>50%</th>\n",
       "      <td>1.000000</td>\n",
       "      <td>0.000000</td>\n",
       "      <td>1.000000</td>\n",
       "      <td>0.566998</td>\n",
       "      <td>0.657578</td>\n",
       "      <td>0.379465</td>\n",
       "      <td>0.000000</td>\n",
       "      <td>0.000000</td>\n",
       "      <td>0.000000</td>\n",
       "      <td>0.000000</td>\n",
       "      <td>...</td>\n",
       "      <td>0.000000</td>\n",
       "      <td>0.000000</td>\n",
       "      <td>0.000000</td>\n",
       "      <td>0.000000</td>\n",
       "      <td>0.000000</td>\n",
       "      <td>0.000000</td>\n",
       "      <td>0.000000</td>\n",
       "      <td>0.000000</td>\n",
       "      <td>1.000000</td>\n",
       "      <td>0.000000</td>\n",
       "    </tr>\n",
       "    <tr>\n",
       "      <th>75%</th>\n",
       "      <td>1.000000</td>\n",
       "      <td>0.000000</td>\n",
       "      <td>1.000000</td>\n",
       "      <td>0.745598</td>\n",
       "      <td>0.757346</td>\n",
       "      <td>0.520978</td>\n",
       "      <td>0.000000</td>\n",
       "      <td>0.250000</td>\n",
       "      <td>1.000000</td>\n",
       "      <td>0.000000</td>\n",
       "      <td>...</td>\n",
       "      <td>0.000000</td>\n",
       "      <td>0.000000</td>\n",
       "      <td>0.000000</td>\n",
       "      <td>0.000000</td>\n",
       "      <td>0.000000</td>\n",
       "      <td>0.000000</td>\n",
       "      <td>0.000000</td>\n",
       "      <td>0.000000</td>\n",
       "      <td>1.000000</td>\n",
       "      <td>1.000000</td>\n",
       "    </tr>\n",
       "    <tr>\n",
       "      <th>max</th>\n",
       "      <td>1.000000</td>\n",
       "      <td>1.000000</td>\n",
       "      <td>1.000000</td>\n",
       "      <td>1.000000</td>\n",
       "      <td>1.000000</td>\n",
       "      <td>1.000000</td>\n",
       "      <td>1.000000</td>\n",
       "      <td>1.000000</td>\n",
       "      <td>1.000000</td>\n",
       "      <td>1.000000</td>\n",
       "      <td>...</td>\n",
       "      <td>1.000000</td>\n",
       "      <td>1.000000</td>\n",
       "      <td>1.000000</td>\n",
       "      <td>1.000000</td>\n",
       "      <td>1.000000</td>\n",
       "      <td>1.000000</td>\n",
       "      <td>1.000000</td>\n",
       "      <td>1.000000</td>\n",
       "      <td>1.000000</td>\n",
       "      <td>1.000000</td>\n",
       "    </tr>\n",
       "  </tbody>\n",
       "</table>\n",
       "<p>8 rows × 28 columns</p>\n",
       "</div>"
      ],
      "text/plain": [
       "               yr     holiday  workingday        temp         hum   windspeed  \\\n",
       "count  584.000000  584.000000  584.000000  584.000000  584.000000  584.000000   \n",
       "mean     0.511986    0.032534    0.672945    0.551484    0.654151    0.410017   \n",
       "std      0.500285    0.177566    0.469540    0.227249    0.146644    0.187249   \n",
       "min      0.000000    0.000000    0.000000    0.000000    0.000000    0.000000   \n",
       "25%      0.000000    0.000000    0.000000    0.354266    0.542745    0.276424   \n",
       "50%      1.000000    0.000000    1.000000    0.566998    0.657578    0.379465   \n",
       "75%      1.000000    0.000000    1.000000    0.745598    0.757346    0.520978   \n",
       "max      1.000000    1.000000    1.000000    1.000000    1.000000    1.000000   \n",
       "\n",
       "       season_spring  season_summer  season_winter    mnth_aug  ...  \\\n",
       "count     584.000000     584.000000     584.000000  584.000000  ...   \n",
       "mean        0.229452       0.250000       0.255137    0.077055  ...   \n",
       "std         0.420841       0.433384       0.436312    0.266907  ...   \n",
       "min         0.000000       0.000000       0.000000    0.000000  ...   \n",
       "25%         0.000000       0.000000       0.000000    0.000000  ...   \n",
       "50%         0.000000       0.000000       0.000000    0.000000  ...   \n",
       "75%         0.000000       0.250000       1.000000    0.000000  ...   \n",
       "max         1.000000       1.000000       1.000000    1.000000  ...   \n",
       "\n",
       "         mnth_oct   mnth_sept  weekday_mon  weekday_sat  weekday_sun  \\\n",
       "count  584.000000  584.000000   584.000000   584.000000   584.000000   \n",
       "mean     0.095890    0.085616     0.147260     0.143836     0.150685   \n",
       "std      0.294693    0.280037     0.354669     0.351224     0.358048   \n",
       "min      0.000000    0.000000     0.000000     0.000000     0.000000   \n",
       "25%      0.000000    0.000000     0.000000     0.000000     0.000000   \n",
       "50%      0.000000    0.000000     0.000000     0.000000     0.000000   \n",
       "75%      0.000000    0.000000     0.000000     0.000000     0.000000   \n",
       "max      1.000000    1.000000     1.000000     1.000000     1.000000   \n",
       "\n",
       "       weekday_thur  weekday_tue  weekday_wed  weathersit_good  \\\n",
       "count    584.000000   584.000000   584.000000       584.000000   \n",
       "mean       0.147260     0.138699     0.138699         0.623288   \n",
       "std        0.354669     0.345928     0.345928         0.484977   \n",
       "min        0.000000     0.000000     0.000000         0.000000   \n",
       "25%        0.000000     0.000000     0.000000         0.000000   \n",
       "50%        0.000000     0.000000     0.000000         1.000000   \n",
       "75%        0.000000     0.000000     0.000000         1.000000   \n",
       "max        1.000000     1.000000     1.000000         1.000000   \n",
       "\n",
       "       weathersit_moderate  \n",
       "count           584.000000  \n",
       "mean              0.344178  \n",
       "std               0.475507  \n",
       "min               0.000000  \n",
       "25%               0.000000  \n",
       "50%               0.000000  \n",
       "75%               1.000000  \n",
       "max               1.000000  \n",
       "\n",
       "[8 rows x 28 columns]"
      ]
     },
     "execution_count": 115,
     "metadata": {},
     "output_type": "execute_result"
    }
   ],
   "source": [
    "X_train.describe()"
   ]
  },
  {
   "cell_type": "code",
   "execution_count": 116,
   "id": "10db0e06",
   "metadata": {},
   "outputs": [
    {
     "data": {
      "text/html": [
       "<div>\n",
       "<style scoped>\n",
       "    .dataframe tbody tr th:only-of-type {\n",
       "        vertical-align: middle;\n",
       "    }\n",
       "\n",
       "    .dataframe tbody tr th {\n",
       "        vertical-align: top;\n",
       "    }\n",
       "\n",
       "    .dataframe thead th {\n",
       "        text-align: right;\n",
       "    }\n",
       "</style>\n",
       "<table border=\"1\" class=\"dataframe\">\n",
       "  <thead>\n",
       "    <tr style=\"text-align: right;\">\n",
       "      <th></th>\n",
       "      <th>yr</th>\n",
       "      <th>holiday</th>\n",
       "      <th>workingday</th>\n",
       "      <th>temp</th>\n",
       "      <th>hum</th>\n",
       "      <th>windspeed</th>\n",
       "      <th>season_spring</th>\n",
       "      <th>season_summer</th>\n",
       "      <th>season_winter</th>\n",
       "      <th>mnth_aug</th>\n",
       "      <th>...</th>\n",
       "      <th>mnth_oct</th>\n",
       "      <th>mnth_sept</th>\n",
       "      <th>weekday_mon</th>\n",
       "      <th>weekday_sat</th>\n",
       "      <th>weekday_sun</th>\n",
       "      <th>weekday_thur</th>\n",
       "      <th>weekday_tue</th>\n",
       "      <th>weekday_wed</th>\n",
       "      <th>weathersit_good</th>\n",
       "      <th>weathersit_moderate</th>\n",
       "    </tr>\n",
       "  </thead>\n",
       "  <tbody>\n",
       "    <tr>\n",
       "      <th>468</th>\n",
       "      <td>1</td>\n",
       "      <td>0</td>\n",
       "      <td>0</td>\n",
       "      <td>0.542730</td>\n",
       "      <td>0.401487</td>\n",
       "      <td>0.312138</td>\n",
       "      <td>0</td>\n",
       "      <td>1</td>\n",
       "      <td>0</td>\n",
       "      <td>0</td>\n",
       "      <td>...</td>\n",
       "      <td>0</td>\n",
       "      <td>0</td>\n",
       "      <td>0</td>\n",
       "      <td>1</td>\n",
       "      <td>0</td>\n",
       "      <td>0</td>\n",
       "      <td>0</td>\n",
       "      <td>0</td>\n",
       "      <td>1</td>\n",
       "      <td>0</td>\n",
       "    </tr>\n",
       "    <tr>\n",
       "      <th>148</th>\n",
       "      <td>0</td>\n",
       "      <td>0</td>\n",
       "      <td>0</td>\n",
       "      <td>0.778190</td>\n",
       "      <td>0.804036</td>\n",
       "      <td>0.362163</td>\n",
       "      <td>0</td>\n",
       "      <td>1</td>\n",
       "      <td>0</td>\n",
       "      <td>0</td>\n",
       "      <td>...</td>\n",
       "      <td>0</td>\n",
       "      <td>0</td>\n",
       "      <td>0</td>\n",
       "      <td>0</td>\n",
       "      <td>1</td>\n",
       "      <td>0</td>\n",
       "      <td>0</td>\n",
       "      <td>0</td>\n",
       "      <td>1</td>\n",
       "      <td>0</td>\n",
       "    </tr>\n",
       "    <tr>\n",
       "      <th>302</th>\n",
       "      <td>0</td>\n",
       "      <td>0</td>\n",
       "      <td>0</td>\n",
       "      <td>0.302721</td>\n",
       "      <td>0.555496</td>\n",
       "      <td>0.281063</td>\n",
       "      <td>0</td>\n",
       "      <td>0</td>\n",
       "      <td>1</td>\n",
       "      <td>0</td>\n",
       "      <td>...</td>\n",
       "      <td>1</td>\n",
       "      <td>0</td>\n",
       "      <td>0</td>\n",
       "      <td>0</td>\n",
       "      <td>1</td>\n",
       "      <td>0</td>\n",
       "      <td>0</td>\n",
       "      <td>0</td>\n",
       "      <td>1</td>\n",
       "      <td>0</td>\n",
       "    </tr>\n",
       "    <tr>\n",
       "      <th>355</th>\n",
       "      <td>0</td>\n",
       "      <td>0</td>\n",
       "      <td>1</td>\n",
       "      <td>0.444906</td>\n",
       "      <td>0.725969</td>\n",
       "      <td>0.000000</td>\n",
       "      <td>1</td>\n",
       "      <td>0</td>\n",
       "      <td>0</td>\n",
       "      <td>0</td>\n",
       "      <td>...</td>\n",
       "      <td>0</td>\n",
       "      <td>0</td>\n",
       "      <td>0</td>\n",
       "      <td>0</td>\n",
       "      <td>0</td>\n",
       "      <td>1</td>\n",
       "      <td>0</td>\n",
       "      <td>0</td>\n",
       "      <td>0</td>\n",
       "      <td>1</td>\n",
       "    </tr>\n",
       "    <tr>\n",
       "      <th>515</th>\n",
       "      <td>1</td>\n",
       "      <td>0</td>\n",
       "      <td>1</td>\n",
       "      <td>0.795252</td>\n",
       "      <td>0.388742</td>\n",
       "      <td>0.321616</td>\n",
       "      <td>0</td>\n",
       "      <td>1</td>\n",
       "      <td>0</td>\n",
       "      <td>0</td>\n",
       "      <td>...</td>\n",
       "      <td>0</td>\n",
       "      <td>0</td>\n",
       "      <td>0</td>\n",
       "      <td>0</td>\n",
       "      <td>0</td>\n",
       "      <td>1</td>\n",
       "      <td>0</td>\n",
       "      <td>0</td>\n",
       "      <td>1</td>\n",
       "      <td>0</td>\n",
       "    </tr>\n",
       "  </tbody>\n",
       "</table>\n",
       "<p>5 rows × 28 columns</p>\n",
       "</div>"
      ],
      "text/plain": [
       "     yr  holiday  workingday      temp       hum  windspeed  season_spring  \\\n",
       "468   1        0           0  0.542730  0.401487   0.312138              0   \n",
       "148   0        0           0  0.778190  0.804036   0.362163              0   \n",
       "302   0        0           0  0.302721  0.555496   0.281063              0   \n",
       "355   0        0           1  0.444906  0.725969   0.000000              1   \n",
       "515   1        0           1  0.795252  0.388742   0.321616              0   \n",
       "\n",
       "     season_summer  season_winter  mnth_aug  ...  mnth_oct  mnth_sept  \\\n",
       "468              1              0         0  ...         0          0   \n",
       "148              1              0         0  ...         0          0   \n",
       "302              0              1         0  ...         1          0   \n",
       "355              0              0         0  ...         0          0   \n",
       "515              1              0         0  ...         0          0   \n",
       "\n",
       "     weekday_mon  weekday_sat  weekday_sun  weekday_thur  weekday_tue  \\\n",
       "468            0            1            0             0            0   \n",
       "148            0            0            1             0            0   \n",
       "302            0            0            1             0            0   \n",
       "355            0            0            0             1            0   \n",
       "515            0            0            0             1            0   \n",
       "\n",
       "     weekday_wed  weathersit_good  weathersit_moderate  \n",
       "468            0                1                    0  \n",
       "148            0                1                    0  \n",
       "302            0                1                    0  \n",
       "355            0                0                    1  \n",
       "515            0                1                    0  \n",
       "\n",
       "[5 rows x 28 columns]"
      ]
     },
     "execution_count": 116,
     "metadata": {},
     "output_type": "execute_result"
    }
   ],
   "source": [
    "X_test.head()"
   ]
  },
  {
   "cell_type": "code",
   "execution_count": 117,
   "id": "52738302",
   "metadata": {},
   "outputs": [
    {
     "data": {
      "text/html": [
       "<div>\n",
       "<style scoped>\n",
       "    .dataframe tbody tr th:only-of-type {\n",
       "        vertical-align: middle;\n",
       "    }\n",
       "\n",
       "    .dataframe tbody tr th {\n",
       "        vertical-align: top;\n",
       "    }\n",
       "\n",
       "    .dataframe thead th {\n",
       "        text-align: right;\n",
       "    }\n",
       "</style>\n",
       "<table border=\"1\" class=\"dataframe\">\n",
       "  <thead>\n",
       "    <tr style=\"text-align: right;\">\n",
       "      <th></th>\n",
       "      <th>yr</th>\n",
       "      <th>holiday</th>\n",
       "      <th>workingday</th>\n",
       "      <th>temp</th>\n",
       "      <th>hum</th>\n",
       "      <th>windspeed</th>\n",
       "      <th>season_spring</th>\n",
       "      <th>season_summer</th>\n",
       "      <th>season_winter</th>\n",
       "      <th>mnth_aug</th>\n",
       "      <th>...</th>\n",
       "      <th>mnth_oct</th>\n",
       "      <th>mnth_sept</th>\n",
       "      <th>weekday_mon</th>\n",
       "      <th>weekday_sat</th>\n",
       "      <th>weekday_sun</th>\n",
       "      <th>weekday_thur</th>\n",
       "      <th>weekday_tue</th>\n",
       "      <th>weekday_wed</th>\n",
       "      <th>weathersit_good</th>\n",
       "      <th>weathersit_moderate</th>\n",
       "    </tr>\n",
       "  </thead>\n",
       "  <tbody>\n",
       "    <tr>\n",
       "      <th>count</th>\n",
       "      <td>146.000000</td>\n",
       "      <td>146.000000</td>\n",
       "      <td>146.000000</td>\n",
       "      <td>146.000000</td>\n",
       "      <td>146.000000</td>\n",
       "      <td>146.000000</td>\n",
       "      <td>146.000000</td>\n",
       "      <td>146.000000</td>\n",
       "      <td>146.000000</td>\n",
       "      <td>146.000000</td>\n",
       "      <td>...</td>\n",
       "      <td>146.000000</td>\n",
       "      <td>146.000000</td>\n",
       "      <td>146.000000</td>\n",
       "      <td>146.000000</td>\n",
       "      <td>146.000000</td>\n",
       "      <td>146.000000</td>\n",
       "      <td>146.000000</td>\n",
       "      <td>146.000000</td>\n",
       "      <td>146.000000</td>\n",
       "      <td>146.000000</td>\n",
       "    </tr>\n",
       "    <tr>\n",
       "      <th>mean</th>\n",
       "      <td>0.452055</td>\n",
       "      <td>0.013699</td>\n",
       "      <td>0.726027</td>\n",
       "      <td>0.510098</td>\n",
       "      <td>0.524030</td>\n",
       "      <td>0.347319</td>\n",
       "      <td>0.315068</td>\n",
       "      <td>0.260274</td>\n",
       "      <td>0.198630</td>\n",
       "      <td>0.116438</td>\n",
       "      <td>...</td>\n",
       "      <td>0.041096</td>\n",
       "      <td>0.068493</td>\n",
       "      <td>0.130137</td>\n",
       "      <td>0.143836</td>\n",
       "      <td>0.116438</td>\n",
       "      <td>0.123288</td>\n",
       "      <td>0.157534</td>\n",
       "      <td>0.150685</td>\n",
       "      <td>0.678082</td>\n",
       "      <td>0.308219</td>\n",
       "    </tr>\n",
       "    <tr>\n",
       "      <th>std</th>\n",
       "      <td>0.499409</td>\n",
       "      <td>0.116637</td>\n",
       "      <td>0.447530</td>\n",
       "      <td>0.251872</td>\n",
       "      <td>0.177812</td>\n",
       "      <td>0.186249</td>\n",
       "      <td>0.466142</td>\n",
       "      <td>0.440294</td>\n",
       "      <td>0.400342</td>\n",
       "      <td>0.321854</td>\n",
       "      <td>...</td>\n",
       "      <td>0.199195</td>\n",
       "      <td>0.253460</td>\n",
       "      <td>0.337612</td>\n",
       "      <td>0.352131</td>\n",
       "      <td>0.321854</td>\n",
       "      <td>0.329899</td>\n",
       "      <td>0.365558</td>\n",
       "      <td>0.358973</td>\n",
       "      <td>0.468820</td>\n",
       "      <td>0.463347</td>\n",
       "    </tr>\n",
       "    <tr>\n",
       "      <th>min</th>\n",
       "      <td>0.000000</td>\n",
       "      <td>0.000000</td>\n",
       "      <td>0.000000</td>\n",
       "      <td>0.000000</td>\n",
       "      <td>0.000000</td>\n",
       "      <td>0.000000</td>\n",
       "      <td>0.000000</td>\n",
       "      <td>0.000000</td>\n",
       "      <td>0.000000</td>\n",
       "      <td>0.000000</td>\n",
       "      <td>...</td>\n",
       "      <td>0.000000</td>\n",
       "      <td>0.000000</td>\n",
       "      <td>0.000000</td>\n",
       "      <td>0.000000</td>\n",
       "      <td>0.000000</td>\n",
       "      <td>0.000000</td>\n",
       "      <td>0.000000</td>\n",
       "      <td>0.000000</td>\n",
       "      <td>0.000000</td>\n",
       "      <td>0.000000</td>\n",
       "    </tr>\n",
       "    <tr>\n",
       "      <th>25%</th>\n",
       "      <td>0.000000</td>\n",
       "      <td>0.000000</td>\n",
       "      <td>0.000000</td>\n",
       "      <td>0.295845</td>\n",
       "      <td>0.399097</td>\n",
       "      <td>0.201677</td>\n",
       "      <td>0.000000</td>\n",
       "      <td>0.000000</td>\n",
       "      <td>0.000000</td>\n",
       "      <td>0.000000</td>\n",
       "      <td>...</td>\n",
       "      <td>0.000000</td>\n",
       "      <td>0.000000</td>\n",
       "      <td>0.000000</td>\n",
       "      <td>0.000000</td>\n",
       "      <td>0.000000</td>\n",
       "      <td>0.000000</td>\n",
       "      <td>0.000000</td>\n",
       "      <td>0.000000</td>\n",
       "      <td>0.000000</td>\n",
       "      <td>0.000000</td>\n",
       "    </tr>\n",
       "    <tr>\n",
       "      <th>50%</th>\n",
       "      <td>0.000000</td>\n",
       "      <td>0.000000</td>\n",
       "      <td>1.000000</td>\n",
       "      <td>0.477325</td>\n",
       "      <td>0.505045</td>\n",
       "      <td>0.333102</td>\n",
       "      <td>0.000000</td>\n",
       "      <td>0.000000</td>\n",
       "      <td>0.000000</td>\n",
       "      <td>0.000000</td>\n",
       "      <td>...</td>\n",
       "      <td>0.000000</td>\n",
       "      <td>0.000000</td>\n",
       "      <td>0.000000</td>\n",
       "      <td>0.000000</td>\n",
       "      <td>0.000000</td>\n",
       "      <td>0.000000</td>\n",
       "      <td>0.000000</td>\n",
       "      <td>0.000000</td>\n",
       "      <td>1.000000</td>\n",
       "      <td>0.000000</td>\n",
       "    </tr>\n",
       "    <tr>\n",
       "      <th>75%</th>\n",
       "      <td>1.000000</td>\n",
       "      <td>0.000000</td>\n",
       "      <td>1.000000</td>\n",
       "      <td>0.740084</td>\n",
       "      <td>0.644612</td>\n",
       "      <td>0.421968</td>\n",
       "      <td>1.000000</td>\n",
       "      <td>1.000000</td>\n",
       "      <td>0.000000</td>\n",
       "      <td>0.000000</td>\n",
       "      <td>...</td>\n",
       "      <td>0.000000</td>\n",
       "      <td>0.000000</td>\n",
       "      <td>0.000000</td>\n",
       "      <td>0.000000</td>\n",
       "      <td>0.000000</td>\n",
       "      <td>0.000000</td>\n",
       "      <td>0.000000</td>\n",
       "      <td>0.000000</td>\n",
       "      <td>1.000000</td>\n",
       "      <td>1.000000</td>\n",
       "    </tr>\n",
       "    <tr>\n",
       "      <th>max</th>\n",
       "      <td>1.000000</td>\n",
       "      <td>1.000000</td>\n",
       "      <td>1.000000</td>\n",
       "      <td>1.000000</td>\n",
       "      <td>1.000000</td>\n",
       "      <td>1.000000</td>\n",
       "      <td>1.000000</td>\n",
       "      <td>1.000000</td>\n",
       "      <td>1.000000</td>\n",
       "      <td>1.000000</td>\n",
       "      <td>...</td>\n",
       "      <td>1.000000</td>\n",
       "      <td>1.000000</td>\n",
       "      <td>1.000000</td>\n",
       "      <td>1.000000</td>\n",
       "      <td>1.000000</td>\n",
       "      <td>1.000000</td>\n",
       "      <td>1.000000</td>\n",
       "      <td>1.000000</td>\n",
       "      <td>1.000000</td>\n",
       "      <td>1.000000</td>\n",
       "    </tr>\n",
       "  </tbody>\n",
       "</table>\n",
       "<p>8 rows × 28 columns</p>\n",
       "</div>"
      ],
      "text/plain": [
       "               yr     holiday  workingday        temp         hum   windspeed  \\\n",
       "count  146.000000  146.000000  146.000000  146.000000  146.000000  146.000000   \n",
       "mean     0.452055    0.013699    0.726027    0.510098    0.524030    0.347319   \n",
       "std      0.499409    0.116637    0.447530    0.251872    0.177812    0.186249   \n",
       "min      0.000000    0.000000    0.000000    0.000000    0.000000    0.000000   \n",
       "25%      0.000000    0.000000    0.000000    0.295845    0.399097    0.201677   \n",
       "50%      0.000000    0.000000    1.000000    0.477325    0.505045    0.333102   \n",
       "75%      1.000000    0.000000    1.000000    0.740084    0.644612    0.421968   \n",
       "max      1.000000    1.000000    1.000000    1.000000    1.000000    1.000000   \n",
       "\n",
       "       season_spring  season_summer  season_winter    mnth_aug  ...  \\\n",
       "count     146.000000     146.000000     146.000000  146.000000  ...   \n",
       "mean        0.315068       0.260274       0.198630    0.116438  ...   \n",
       "std         0.466142       0.440294       0.400342    0.321854  ...   \n",
       "min         0.000000       0.000000       0.000000    0.000000  ...   \n",
       "25%         0.000000       0.000000       0.000000    0.000000  ...   \n",
       "50%         0.000000       0.000000       0.000000    0.000000  ...   \n",
       "75%         1.000000       1.000000       0.000000    0.000000  ...   \n",
       "max         1.000000       1.000000       1.000000    1.000000  ...   \n",
       "\n",
       "         mnth_oct   mnth_sept  weekday_mon  weekday_sat  weekday_sun  \\\n",
       "count  146.000000  146.000000   146.000000   146.000000   146.000000   \n",
       "mean     0.041096    0.068493     0.130137     0.143836     0.116438   \n",
       "std      0.199195    0.253460     0.337612     0.352131     0.321854   \n",
       "min      0.000000    0.000000     0.000000     0.000000     0.000000   \n",
       "25%      0.000000    0.000000     0.000000     0.000000     0.000000   \n",
       "50%      0.000000    0.000000     0.000000     0.000000     0.000000   \n",
       "75%      0.000000    0.000000     0.000000     0.000000     0.000000   \n",
       "max      1.000000    1.000000     1.000000     1.000000     1.000000   \n",
       "\n",
       "       weekday_thur  weekday_tue  weekday_wed  weathersit_good  \\\n",
       "count    146.000000   146.000000   146.000000       146.000000   \n",
       "mean       0.123288     0.157534     0.150685         0.678082   \n",
       "std        0.329899     0.365558     0.358973         0.468820   \n",
       "min        0.000000     0.000000     0.000000         0.000000   \n",
       "25%        0.000000     0.000000     0.000000         0.000000   \n",
       "50%        0.000000     0.000000     0.000000         1.000000   \n",
       "75%        0.000000     0.000000     0.000000         1.000000   \n",
       "max        1.000000     1.000000     1.000000         1.000000   \n",
       "\n",
       "       weathersit_moderate  \n",
       "count           146.000000  \n",
       "mean              0.308219  \n",
       "std               0.463347  \n",
       "min               0.000000  \n",
       "25%               0.000000  \n",
       "50%               0.000000  \n",
       "75%               1.000000  \n",
       "max               1.000000  \n",
       "\n",
       "[8 rows x 28 columns]"
      ]
     },
     "execution_count": 117,
     "metadata": {},
     "output_type": "execute_result"
    }
   ],
   "source": [
    "X_test.describe()"
   ]
  },
  {
   "cell_type": "code",
   "execution_count": 118,
   "id": "c9a85d84",
   "metadata": {},
   "outputs": [],
   "source": [
    "lm = LinearRegression()\n",
    "\n",
    "model = lm.fit(X_train,Y_train)\n",
    "\n"
   ]
  },
  {
   "cell_type": "code",
   "execution_count": 119,
   "id": "5eaa3952",
   "metadata": {},
   "outputs": [
    {
     "name": "stdout",
     "output_type": "stream",
     "text": [
      "Estimated model slope:  [ 1.96268071e+03  6.55567140e+15  6.55567140e+15  3.78450000e+03\n",
      " -1.41000000e+03 -1.16100000e+03 -9.94125000e+02  1.09250000e+02\n",
      "  7.63875000e+02 -1.14113281e+02 -4.43250000e+02 -6.51972656e+01\n",
      " -1.74625000e+02 -4.18875000e+02 -2.95000000e+01  3.45687500e+02\n",
      "  2.45937500e+02 -5.58250000e+02  1.44125000e+02  5.52250000e+02\n",
      " -2.08500000e+02  6.55567140e+15  6.55567140e+15 -8.10000000e+01\n",
      " -1.42187500e+02 -1.15000000e+01  2.12625000e+03  1.68175000e+03]\n",
      "Estimated model intercept:  -6555671399926555.0\n"
     ]
    }
   ],
   "source": [
    "a = model.coef_\n",
    "b = model.intercept_\n",
    "print(\"Estimated model slope: \",a)\n",
    "print(\"Estimated model intercept: \",b)"
   ]
  },
  {
   "cell_type": "code",
   "execution_count": 120,
   "id": "e9ea0c07",
   "metadata": {},
   "outputs": [],
   "source": [
    "Y_train_pred = model.predict(X_train)\n"
   ]
  },
  {
   "cell_type": "code",
   "execution_count": 121,
   "id": "9e134862",
   "metadata": {},
   "outputs": [
    {
     "data": {
      "text/plain": [
       "array([ 3779.,  3657.,  5870.,  4970.,  3452.,  3349.,  1155.,  3611.,\n",
       "        2465.,  5170.,  7145.,  5106.,  6551.,  3608.,  6319.,  5893.,\n",
       "        1838.,  3539.,  4851.,  2045.,  7733.,  6995.,  3161.,  6954.,\n",
       "        1082.,  4549.,  4377.,  7075.,  4464.,  3977.,  3714.,  2451.,\n",
       "         417.,  3314.,  6687.,  7336.,  4812.,  6654.,  5705.,  5581.,\n",
       "        5117.,  1127.,  6743.,  4363.,  2375.,  5341.,  3368.,  2144.,\n",
       "        6271.,  4375.,  1222.,  5348.,  4838.,  4473.,  6977.,  5178.,\n",
       "        6587.,  1531.,  4511.,  3045.,  6427.,  4154.,  3073.,  5296.,\n",
       "        3884.,  4845.,  4791.,  2969.,  2882.,  6180.,  6665.,  3701.,\n",
       "        2644.,  4872.,  4915.,  4317.,   911.,  7227.,  5619.,  5442.,\n",
       "        3797.,  3105.,  5327.,  3054.,  4151.,  6120.,  3884.,  6765.,\n",
       "        7291.,  3301.,   707.,   604.,  6579.,  6871.,  4548.,  5310.,\n",
       "        6740.,  6465.,  3717.,  4844.,  5031.,  1484.,  1645.,  1704.,\n",
       "        1831.,  4713.,  6389.,  6523.,  2684.,   935.,   991.,  5053.,\n",
       "        6429.,  6175.,  4325.,  6677.,  7046.,  3989.,  6697.,  1308.,\n",
       "        5123.,  5273.,  3690.,  3046.,  2645.,  4875.,  6786.,  5988.,\n",
       "        2521.,  1039.,  2681.,   570.,  5349.,  5411.,  4672.,  6761.,\n",
       "        6620.,  5573.,  6520.,  3923.,  3935.,  5951.,  6269.,  2351.,\n",
       "        3663.,  6661.,  3809.,  4809.,  2800.,  7034.,  5035.,  1276.,\n",
       "        4217.,  3782.,  5681.,  3910.,  3029.,  7129.,  3602.,  4151.,\n",
       "        6853.,  4923.,  3418.,  1469.,  3183.,  5501.,  7331.,  6104.,\n",
       "        4919.,  3513.,  5089.,  3569.,  1528.,  2985.,  3594.,  5921.,\n",
       "        5055.,  3911.,  3571.,  6955.,  6900.,  5227.,  6653.,  3027.,\n",
       "        3649.,  2141.,  4101.,  4375.,  2659.,  6525.,  4111.,  2119.,\n",
       "        7295.,  6316.,  3337.,  4182.,  6037.,  6510.,  3308.,  4967.,\n",
       "        3623.,  1744.,  3701.,  5911.,  4699.,  3992.,  6319.,  7691.,\n",
       "        4791.,  3997.,  6079.,  5653.,  2783.,  3750.,  3470.,  3567.,\n",
       "        5045.,  3881.,  4320.,  4429.,  2624.,  1245.,  4945.,  7081.,\n",
       "        3853.,  5993.,  1026.,  3749.,  1293., -1331.,  7330.,  4302.,\n",
       "        1064.,  6199.,  5224.,  4313.,  6634.,  5493.,  5149.,  4650.,\n",
       "        6267.,  3010.,  4941.,  3306.,  4059.,  4222.,   911.,  5367.,\n",
       "        1843.,  5965.,  5151.,  5312.,   645.,  5530.,  3472.,  5088.,\n",
       "        5221.,  4996.,  4367.,  5650.,  5583.,  3714.,  2472.,  5062.,\n",
       "         773.,  6471.,  7538.,  6232.,  4781.,  6836.,  5551.,  1757.,\n",
       "        4939.,  1807.,  6457.,  7193.,  4035.,   135.,  2937.,  4920.,\n",
       "        5025.,  1365.,  6995.,  5226.,  3435.,  4939.,  4460.,  3800.,\n",
       "        4502.,  7069.,  3433.,  1397.,  6978.,  4371.,  5989.,  1679.,\n",
       "        2057.,  4589.,  1865.,  4915.,  4893.,   477.,  3680.,  4151.,\n",
       "        5203.,  5032.,  7165.,  4346.,  7180.,  4376.,  7279.,  6912.,\n",
       "        5327.,  5518.,  6090.,  5220.,  7166.,  6827.,  1581.,  7606.,\n",
       "        5139.,  6073.,  7423.,  4418.,  3148.,  4805.,  7157.,  3609.,\n",
       "        3303.,  7075.,  5759.,  5134.,  6669.,  6173.,  2612.,  4231.,\n",
       "        6700.,  6475.,  4183.,  3662.,  3676.,  6433.,  7512.,  1957.,\n",
       "        3995.,  2276.,  5749.,  4019.,  2143.,  4699.,  3277.,  5706.,\n",
       "        5163.,  6833.,  6971.,  2647.,  5166.,   436.,  7462.,  6701.,\n",
       "        1685.,  6157.,  4533.,  4896.,  4027.,  7059.,  7427.,  6933.,\n",
       "        5489.,  3999.,  4657.,  2930.,  5676.,  7039.,  6879.,  6791.,\n",
       "        4815.,  4977.,  6769.,  4485.,  6861.,  3146.,  5725.,  1216.,\n",
       "        4505.,  2883.,  7213.,  4261.,  4182.,  4017.,  5314.,  4503.,\n",
       "        2837.,  3725.,  3495.,  5409.,  5642.,  4853.,  3085.,  5593.,\n",
       "        4733.,  4339.,  5874.,  5687.,  4923.,  6472.,  5781.,  5148.,\n",
       "        6291.,  2014.,  5116.,  7088.,  5123.,  4187.,  7018.,  2970.,\n",
       "        4031.,  7481.,  2947.,  4509.,  6421.,  3809.,  4293.,  6225.,\n",
       "        1052.,  4042.,  4673.,  3437.,  3189.,  4097.,  4894.,  5752.,\n",
       "        5543.,  3277.,  5687.,  5016.,  5117.,  6564.,  7031.,  6297.,\n",
       "        6607.,  6883.,  2586.,  4917.,  5162.,  7436.,   874.,  6553.,\n",
       "        3943.,  6149.,  6578.,  5482.,  3549.,  7093.,  4465.,  6180.,\n",
       "        5610.,  6858.,  4875.,  4767.,  3977.,  3797.,  6631.,  4157.,\n",
       "        1767.,  6678.,  7411.,  6782.,  2714.,  6855.,  1026.,  6878.,\n",
       "        2569.,   873.,  4891.,  3494.,   893.,  7112.,  4274.,  6357.,\n",
       "        3530.,  4430.,  4661.,  3338.,  7050.,  5661.,  3870.,  1721.,\n",
       "        6494.,  4347.,  4694.,  5565.,   943.,  1399.,  4901.,  1317.,\n",
       "        5675.,  2876.,  4685.,  4841.,  1306.,  3144.,  4165.,  4563.,\n",
       "        6063.,  4787.,  2916.,  5159.,  4306.,  5193.,  6002.,  3733.,\n",
       "        2236.,   830.,  5462.,  3823.,  1002.,  5137.,  6577.,  3889.,\n",
       "        4569.,  1329.,  6839.,  3928.,  5269.,  2833.,  2724.,  1235.,\n",
       "        6798.,  3133.,  4654.,  1498.,  3564.,  6671.,  2583.,  3549.,\n",
       "        3974.,  2227.,  5788.,  5339.,  5353.,  6370.,  5275.,  3446.,\n",
       "        7250.,  4750.,  4762.,  6039.,  4302.,  7037.,  1151.,  6168.,\n",
       "        6168.,  5219.,  1125.,  2798.,  5917.,  5409.,  4475.,  4281.,\n",
       "        2408.,  4302.,  5621.,  3298.,  3538.,  7551.,  4687.,  6499.,\n",
       "        2639.,  3788.,  3681.,  6463.,  3384.,  4587.,  5402.,  3755.,\n",
       "        7320.,  1034.,  4555.,  2246.,  3319.,  5247.,  5049.,  2737.])"
      ]
     },
     "execution_count": 121,
     "metadata": {},
     "output_type": "execute_result"
    }
   ],
   "source": [
    "Y_train_pred\n"
   ]
  },
  {
   "cell_type": "markdown",
   "id": "7e3e258d",
   "metadata": {},
   "source": [
    "# Inference\n",
    "From the prediction we could see that there is increse in demand for bike share, and there are few factors like season and weather afecting the demand. But once everything comes back to normal there is a good rise in demand"
   ]
  },
  {
   "cell_type": "code",
   "execution_count": 129,
   "id": "ec29f00c",
   "metadata": {},
   "outputs": [
    {
     "name": "stderr",
     "output_type": "stream",
     "text": [
      "C:\\Users\\PC125\\anaconda3\\lib\\site-packages\\seaborn\\distributions.py:2557: FutureWarning: `distplot` is a deprecated function and will be removed in a future version. Please adapt your code to use either `displot` (a figure-level function with similar flexibility) or `histplot` (an axes-level function for histograms).\n",
      "  warnings.warn(msg, FutureWarning)\n"
     ]
    },
    {
     "data": {
      "text/plain": [
       "<AxesSubplot:xlabel='cnt', ylabel='Density'>"
      ]
     },
     "execution_count": 129,
     "metadata": {},
     "output_type": "execute_result"
    },
    {
     "data": {
      "image/png": "[encoded data removed]",
      "text/plain": [
       "<Figure size 432x288 with 1 Axes>"
      ]
     },
     "metadata": {
      "needs_background": "light"
     },
     "output_type": "display_data"
    }
   ],
   "source": [
    "# plotting to find error terms\n",
    "sns.distplot(Y_train-Y_train_pred)"
   ]
  },
  {
   "cell_type": "markdown",
   "id": "39d6dd1e",
   "metadata": {},
   "source": [
    "Errors are distributed normally around mean 0. So it looks fine with the prediction."
   ]
  },
  {
   "cell_type": "code",
   "execution_count": 122,
   "id": "43b3c4eb",
   "metadata": {},
   "outputs": [
    {
     "name": "stdout",
     "output_type": "stream",
     "text": [
      "RMSE value: 773.0082\n"
     ]
    }
   ],
   "source": [
    "# Calculate and print Root Mean Square Error(RMSE)\n",
    "\n",
    "from sklearn.metrics import mean_squared_error\n",
    "mse = mean_squared_error(Y_train, Y_train_pred)\n",
    "rmse = np.sqrt(mse)\n",
    "print(\"RMSE value: {:.4f}\".format(rmse))"
   ]
  },
  {
   "cell_type": "code",
   "execution_count": 124,
   "id": "4aa12169",
   "metadata": {},
   "outputs": [
    {
     "name": "stdout",
     "output_type": "stream",
     "text": [
      "R2 Score value: 0.8434\n"
     ]
    }
   ],
   "source": [
    "# R2 score calue\n",
    "from sklearn.metrics import r2_score\n",
    "score=r2_score(Y_train, Y_train_pred)\n",
    "print (\"R2 Score value: {:.4f}\".format(score))"
   ]
  },
  {
   "cell_type": "markdown",
   "id": "2ae147fd",
   "metadata": {},
   "source": [
    "# Inference\n",
    "We can see that R2 Score is less than 1 and between 0.65 - 0.95. It is said to be a good model. We have successfully done the prediction."
   ]
  },
  {
   "cell_type": "markdown",
   "id": "1131f57a",
   "metadata": {},
   "source": [
    "Test data"
   ]
  },
  {
   "cell_type": "code",
   "execution_count": 133,
   "id": "89be461c",
   "metadata": {},
   "outputs": [],
   "source": [
    "# Processing the same steps for test data\n",
    "model = lm.fit(X_test,Y_test)"
   ]
  },
  {
   "cell_type": "code",
   "execution_count": 134,
   "id": "1a62faa7",
   "metadata": {},
   "outputs": [
    {
     "name": "stdout",
     "output_type": "stream",
     "text": [
      "Estimated model slope for test:  [ 2223.93386731  -330.58793503   140.74600717  2395.27413112\n",
      " -1218.02151529 -1218.69124308  -689.36134081  -342.73631339\n",
      "   628.06055163   -40.1665297  -1062.34130586  -969.02279349\n",
      " -1329.1565502   -699.04640581   464.60723772  -649.86953381\n",
      "   229.98647262  -713.29621995  -564.26449185   181.90583607\n",
      "  -107.58070994   256.51114336   -66.6692155    189.92973821\n",
      "  -136.48253282  -203.19956133   907.0379414    428.42639755]\n",
      "Estimated model intercept for test:  2990.68518059513\n"
     ]
    }
   ],
   "source": [
    "a = model.coef_\n",
    "b = model.intercept_\n",
    "print(\"Estimated model slope for test: \",a)\n",
    "print(\"Estimated model intercept for test: \",b)"
   ]
  },
  {
   "cell_type": "code",
   "execution_count": 135,
   "id": "f783d338",
   "metadata": {},
   "outputs": [],
   "source": [
    "Y_test_pred = model.predict(X_test)"
   ]
  },
  {
   "cell_type": "code",
   "execution_count": 136,
   "id": "020d96b5",
   "metadata": {},
   "outputs": [
    {
     "name": "stderr",
     "output_type": "stream",
     "text": [
      "C:\\Users\\PC125\\anaconda3\\lib\\site-packages\\seaborn\\distributions.py:2557: FutureWarning: `distplot` is a deprecated function and will be removed in a future version. Please adapt your code to use either `displot` (a figure-level function with similar flexibility) or `histplot` (an axes-level function for histograms).\n",
      "  warnings.warn(msg, FutureWarning)\n"
     ]
    },
    {
     "data": {
      "text/plain": [
       "<AxesSubplot:xlabel='cnt', ylabel='Density'>"
      ]
     },
     "execution_count": 136,
     "metadata": {},
     "output_type": "execute_result"
    },
    {
     "data": {
      "image/png": "[encoded data removed]",
      "text/plain": [
       "<Figure size 432x288 with 1 Axes>"
      ]
     },
     "metadata": {
      "needs_background": "light"
     },
     "output_type": "display_data"
    }
   ],
   "source": [
    "#Plotting for test data to find error term\n",
    "sns.distplot(Y_test-Y_test_pred)"
   ]
  },
  {
   "cell_type": "markdown",
   "id": "c83752e9",
   "metadata": {},
   "source": [
    "Errors are distributed normally for test data around mean 0. So it looks fine with the prediction."
   ]
  },
  {
   "cell_type": "code",
   "execution_count": 137,
   "id": "b720c758",
   "metadata": {},
   "outputs": [
    {
     "name": "stdout",
     "output_type": "stream",
     "text": [
      "RMSE value: 579.0720\n"
     ]
    }
   ],
   "source": [
    "# Calculate and print Root Mean Square Error(RMSE)\n",
    "\n",
    "mse = mean_squared_error(Y_test, Y_test_pred)\n",
    "rmse = np.sqrt(mse)\n",
    "print(\"RMSE value: {:.4f}\".format(rmse))"
   ]
  },
  {
   "cell_type": "code",
   "execution_count": 138,
   "id": "bc0c3c69",
   "metadata": {},
   "outputs": [
    {
     "name": "stdout",
     "output_type": "stream",
     "text": [
      "R2 Score value: 0.9020\n"
     ]
    }
   ],
   "source": [
    "# R2 score calue\n",
    "\n",
    "score=r2_score(Y_test, Y_test_pred)\n",
    "print (\"R2 Score value: {:.4f}\".format(score))"
   ]
  },
  {
   "cell_type": "markdown",
   "id": "6a010f4e",
   "metadata": {},
   "source": [
    "# Inference\n",
    "We can see that R2 Score for test data is less than 1 and between 0.65 - 0.95. It is said to be a good model. We have successfully done the prediction."
   ]
  },
  {
   "cell_type": "markdown",
   "id": "0caab1dd",
   "metadata": {},
   "source": [
    "# Conclusion"
   ]
  },
  {
   "cell_type": "markdown",
   "id": "e86b2750",
   "metadata": {},
   "source": [
    "The demand for bike share can be predicted with the help of the features like:-\n",
    "Season - This is the factor that affects mostly, the demand increases in the fall season.\n",
    "\n",
    "Holiday - Since there is an holiday the people using bike sharing are less while on a working day there is high use.\n",
    "\n",
    "Temperature - This is also an important factor, When the temperature \n",
    "increases to warm and good the bike shared is high and when the temperature reduces to cold and freezing the bike shared is decreases.\n",
    "Humidity - It is also one of the factor helps in predicting, when the humidity reduces the bike demand has incresed.\n",
    "Weather - It is same as season, when the wather is good the bike share demand was high but the the weather turns to bad or severe the demand reduces\n",
    "\n",
    "\n",
    "When comparing the data of demand for the year 2018 and 2019 there is a good increase in demand for bike share. Which shows a good response among the customer using this bikeshare. This helps us to have a clear picture that there is a definite posibility of rice in business.\n",
    "\n"
   ]
  },
  {
   "cell_type": "code",
   "execution_count": null,
   "id": "1b1165e1",
   "metadata": {},
   "outputs": [],
   "source": []
  }
 ],
 "metadata": {
  "kernelspec": {
   "display_name": "Python 3",
   "language": "python",
   "name": "python3"
  },
  "language_info": {
   "codemirror_mode": {
    "name": "ipython",
    "version": 3
   },
   "file_extension": ".py",
   "mimetype": "text/x-python",
   "name": "python",
   "nbconvert_exporter": "python",
   "pygments_lexer": "ipython3",
   "version": "3.8.8"
  }
 },
 "nbformat": 4,
 "nbformat_minor": 5
}
